{
 "cells": [
  {
   "cell_type": "code",
   "execution_count": 33,
   "id": "9a2a5d7e",
   "metadata": {},
   "outputs": [],
   "source": [
    "import pandas as pd\n",
    "import numpy as np\n",
    "import matplotlib.pyplot as plt\n",
    "import seaborn as sns"
   ]
  },
  {
   "cell_type": "code",
   "execution_count": 34,
   "id": "c16b2997",
   "metadata": {},
   "outputs": [],
   "source": [
    "df = pd.read_csv('/Users/amitpandey/TIPS.csv')"
   ]
  },
  {
   "cell_type": "code",
   "execution_count": 35,
   "id": "df01636a",
   "metadata": {},
   "outputs": [
    {
     "data": {
      "text/html": [
       "<div>\n",
       "<style scoped>\n",
       "    .dataframe tbody tr th:only-of-type {\n",
       "        vertical-align: middle;\n",
       "    }\n",
       "\n",
       "    .dataframe tbody tr th {\n",
       "        vertical-align: top;\n",
       "    }\n",
       "\n",
       "    .dataframe thead th {\n",
       "        text-align: right;\n",
       "    }\n",
       "</style>\n",
       "<table border=\"1\" class=\"dataframe\">\n",
       "  <thead>\n",
       "    <tr style=\"text-align: right;\">\n",
       "      <th></th>\n",
       "      <th>total_bill</th>\n",
       "      <th>tip</th>\n",
       "      <th>sex</th>\n",
       "      <th>smoker</th>\n",
       "      <th>day</th>\n",
       "      <th>time</th>\n",
       "      <th>size</th>\n",
       "    </tr>\n",
       "  </thead>\n",
       "  <tbody>\n",
       "    <tr>\n",
       "      <th>0</th>\n",
       "      <td>16.99</td>\n",
       "      <td>1.01</td>\n",
       "      <td>Female</td>\n",
       "      <td>No</td>\n",
       "      <td>Sun</td>\n",
       "      <td>Dinner</td>\n",
       "      <td>2</td>\n",
       "    </tr>\n",
       "    <tr>\n",
       "      <th>1</th>\n",
       "      <td>10.34</td>\n",
       "      <td>1.66</td>\n",
       "      <td>Male</td>\n",
       "      <td>No</td>\n",
       "      <td>Sun</td>\n",
       "      <td>Dinner</td>\n",
       "      <td>3</td>\n",
       "    </tr>\n",
       "    <tr>\n",
       "      <th>2</th>\n",
       "      <td>21.01</td>\n",
       "      <td>3.50</td>\n",
       "      <td>Male</td>\n",
       "      <td>No</td>\n",
       "      <td>Sun</td>\n",
       "      <td>Dinner</td>\n",
       "      <td>3</td>\n",
       "    </tr>\n",
       "    <tr>\n",
       "      <th>3</th>\n",
       "      <td>23.68</td>\n",
       "      <td>3.31</td>\n",
       "      <td>Male</td>\n",
       "      <td>No</td>\n",
       "      <td>Sun</td>\n",
       "      <td>Dinner</td>\n",
       "      <td>2</td>\n",
       "    </tr>\n",
       "    <tr>\n",
       "      <th>4</th>\n",
       "      <td>24.59</td>\n",
       "      <td>3.61</td>\n",
       "      <td>Female</td>\n",
       "      <td>No</td>\n",
       "      <td>Sun</td>\n",
       "      <td>Dinner</td>\n",
       "      <td>4</td>\n",
       "    </tr>\n",
       "  </tbody>\n",
       "</table>\n",
       "</div>"
      ],
      "text/plain": [
       "   total_bill   tip     sex smoker  day    time  size\n",
       "0       16.99  1.01  Female     No  Sun  Dinner     2\n",
       "1       10.34  1.66    Male     No  Sun  Dinner     3\n",
       "2       21.01  3.50    Male     No  Sun  Dinner     3\n",
       "3       23.68  3.31    Male     No  Sun  Dinner     2\n",
       "4       24.59  3.61  Female     No  Sun  Dinner     4"
      ]
     },
     "execution_count": 35,
     "metadata": {},
     "output_type": "execute_result"
    }
   ],
   "source": [
    "df.head()\n",
    "#by this we get the first 5 cols"
   ]
  },
  {
   "cell_type": "code",
   "execution_count": 36,
   "id": "fb353fb2",
   "metadata": {},
   "outputs": [],
   "source": [
    "target = df['tip']   # -> dependent\n",
    "features = df.drop('tip', axis = 1) # -> independent\n",
    "#simply showing which is dependent and independent variable"
   ]
  },
  {
   "cell_type": "code",
   "execution_count": 37,
   "id": "534b97a6",
   "metadata": {},
   "outputs": [
    {
     "data": {
      "text/plain": [
       "(0      1.01\n",
       " 1      1.66\n",
       " 2      3.50\n",
       " 3      3.31\n",
       " 4      3.61\n",
       "        ... \n",
       " 239    5.92\n",
       " 240    2.00\n",
       " 241    2.00\n",
       " 242    1.75\n",
       " 243    3.00\n",
       " Name: tip, Length: 244, dtype: float64,\n",
       "      total_bill     sex smoker   day    time  size\n",
       " 0         16.99  Female     No   Sun  Dinner     2\n",
       " 1         10.34    Male     No   Sun  Dinner     3\n",
       " 2         21.01    Male     No   Sun  Dinner     3\n",
       " 3         23.68    Male     No   Sun  Dinner     2\n",
       " 4         24.59  Female     No   Sun  Dinner     4\n",
       " ..          ...     ...    ...   ...     ...   ...\n",
       " 239       29.03    Male     No   Sat  Dinner     3\n",
       " 240       27.18  Female    Yes   Sat  Dinner     2\n",
       " 241       22.67    Male    Yes   Sat  Dinner     2\n",
       " 242       17.82    Male     No   Sat  Dinner     2\n",
       " 243       18.78  Female     No  Thur  Dinner     2\n",
       " \n",
       " [244 rows x 6 columns])"
      ]
     },
     "execution_count": 37,
     "metadata": {},
     "output_type": "execute_result"
    }
   ],
   "source": [
    "target,features"
   ]
  },
  {
   "cell_type": "code",
   "execution_count": 38,
   "id": "6f97798d",
   "metadata": {},
   "outputs": [],
   "source": [
    "#Here we are gonna clean the data"
   ]
  },
  {
   "cell_type": "code",
   "execution_count": 39,
   "id": "4675c372",
   "metadata": {},
   "outputs": [
    {
     "data": {
      "text/plain": [
       "total_bill    0\n",
       "tip           0\n",
       "sex           0\n",
       "smoker        0\n",
       "day           0\n",
       "time          0\n",
       "size          0\n",
       "dtype: int64"
      ]
     },
     "execution_count": 39,
     "metadata": {},
     "output_type": "execute_result"
    }
   ],
   "source": [
    "df.isnull().sum()\n",
    "#checking for any null value \n",
    "#but there isnt"
   ]
  },
  {
   "cell_type": "code",
   "execution_count": 40,
   "id": "d5dece30",
   "metadata": {},
   "outputs": [
    {
     "name": "stdout",
     "output_type": "stream",
     "text": [
      "<class 'pandas.core.frame.DataFrame'>\n",
      "RangeIndex: 244 entries, 0 to 243\n",
      "Data columns (total 7 columns):\n",
      " #   Column      Non-Null Count  Dtype  \n",
      "---  ------      --------------  -----  \n",
      " 0   total_bill  244 non-null    float64\n",
      " 1   tip         244 non-null    float64\n",
      " 2   sex         244 non-null    object \n",
      " 3   smoker      244 non-null    object \n",
      " 4   day         244 non-null    object \n",
      " 5   time        244 non-null    object \n",
      " 6   size        244 non-null    int64  \n",
      "dtypes: float64(2), int64(1), object(4)\n",
      "memory usage: 13.5+ KB\n"
     ]
    }
   ],
   "source": [
    "df.info()\n",
    "#checking for categorical cols AND numerical cols\n",
    "# categorical -> sex, smoker, day, time"
   ]
  },
  {
   "cell_type": "markdown",
   "id": "71b443dd",
   "metadata": {},
   "source": [
    "# ~ Checking the values in categorical cols"
   ]
  },
  {
   "cell_type": "code",
   "execution_count": 41,
   "id": "8d55d40a",
   "metadata": {},
   "outputs": [
    {
     "data": {
      "text/plain": [
       "array(['Female', 'Male'], dtype=object)"
      ]
     },
     "execution_count": 41,
     "metadata": {},
     "output_type": "execute_result"
    }
   ],
   "source": [
    "df['sex'].unique()"
   ]
  },
  {
   "cell_type": "code",
   "execution_count": 42,
   "id": "eb341c51",
   "metadata": {},
   "outputs": [
    {
     "data": {
      "text/plain": [
       "array(['No', 'Yes'], dtype=object)"
      ]
     },
     "execution_count": 42,
     "metadata": {},
     "output_type": "execute_result"
    }
   ],
   "source": [
    "df['smoker'].unique()"
   ]
  },
  {
   "cell_type": "code",
   "execution_count": 43,
   "id": "20599be5",
   "metadata": {},
   "outputs": [
    {
     "data": {
      "text/plain": [
       "array(['Sun', 'Sat', 'Thur', 'Fri'], dtype=object)"
      ]
     },
     "execution_count": 43,
     "metadata": {},
     "output_type": "execute_result"
    }
   ],
   "source": [
    "df['day'].unique()"
   ]
  },
  {
   "cell_type": "code",
   "execution_count": 44,
   "id": "3da1e5c5",
   "metadata": {},
   "outputs": [
    {
     "data": {
      "text/plain": [
       "array(['Dinner', 'Lunch'], dtype=object)"
      ]
     },
     "execution_count": 44,
     "metadata": {},
     "output_type": "execute_result"
    }
   ],
   "source": [
    "df['time'].unique()"
   ]
  },
  {
   "cell_type": "markdown",
   "id": "2db82cdf",
   "metadata": {},
   "source": [
    "# ~ Now, we gonna convert categoricals values into numericals\n",
    "**By using encoding or one hot encoding**"
   ]
  },
  {
   "cell_type": "code",
   "execution_count": null,
   "id": "2ff39330",
   "metadata": {},
   "outputs": [],
   "source": [
    "\n"
   ]
  },
  {
   "cell_type": "code",
   "execution_count": 72,
   "id": "c5bbaf6a",
   "metadata": {},
   "outputs": [
    {
     "data": {
      "text/plain": [
       "array([2, 1, 3, 0])"
      ]
     },
     "execution_count": 72,
     "metadata": {},
     "output_type": "execute_result"
    }
   ],
   "source": [
    "# label encoding\n",
    "\n",
    "from sklearn import preprocessing\n",
    "  \n",
    "\n",
    "label_encoder = preprocessing.LabelEncoder()\n",
    "  \n",
    "# Encode labels in column 'species'.\n",
    "df['sex']= label_encoder.fit_transform(df['sex'])\n",
    "df['smoker']= label_encoder.fit_transform(df['smoker'])\n",
    "df['time']= label_encoder.fit_transform(df['time']) \n",
    "df['day']= label_encoder.fit_transform(df['day'])\n",
    "df['day'].unique()\n",
    "\n"
   ]
  },
  {
   "cell_type": "raw",
   "id": "944c335a",
   "metadata": {},
   "source": [
    "Sex = pd.get_dummies(df['sex'])\n",
    "Smoker = pd.get_dummies(df['smoker'])\n",
    "Day = pd.get_dummies(df['day'])\n",
    "Time = pd.get_dummies(df['time'])\n"
   ]
  },
  {
   "cell_type": "code",
   "execution_count": 73,
   "id": "82967dcd",
   "metadata": {},
   "outputs": [
    {
     "data": {
      "text/html": [
       "<div>\n",
       "<style scoped>\n",
       "    .dataframe tbody tr th:only-of-type {\n",
       "        vertical-align: middle;\n",
       "    }\n",
       "\n",
       "    .dataframe tbody tr th {\n",
       "        vertical-align: top;\n",
       "    }\n",
       "\n",
       "    .dataframe thead th {\n",
       "        text-align: right;\n",
       "    }\n",
       "</style>\n",
       "<table border=\"1\" class=\"dataframe\">\n",
       "  <thead>\n",
       "    <tr style=\"text-align: right;\">\n",
       "      <th></th>\n",
       "      <th>Female</th>\n",
       "      <th>Male</th>\n",
       "    </tr>\n",
       "  </thead>\n",
       "  <tbody>\n",
       "    <tr>\n",
       "      <th>0</th>\n",
       "      <td>1</td>\n",
       "      <td>0</td>\n",
       "    </tr>\n",
       "    <tr>\n",
       "      <th>1</th>\n",
       "      <td>0</td>\n",
       "      <td>1</td>\n",
       "    </tr>\n",
       "    <tr>\n",
       "      <th>2</th>\n",
       "      <td>0</td>\n",
       "      <td>1</td>\n",
       "    </tr>\n",
       "    <tr>\n",
       "      <th>3</th>\n",
       "      <td>0</td>\n",
       "      <td>1</td>\n",
       "    </tr>\n",
       "    <tr>\n",
       "      <th>4</th>\n",
       "      <td>1</td>\n",
       "      <td>0</td>\n",
       "    </tr>\n",
       "    <tr>\n",
       "      <th>...</th>\n",
       "      <td>...</td>\n",
       "      <td>...</td>\n",
       "    </tr>\n",
       "    <tr>\n",
       "      <th>239</th>\n",
       "      <td>0</td>\n",
       "      <td>1</td>\n",
       "    </tr>\n",
       "    <tr>\n",
       "      <th>240</th>\n",
       "      <td>1</td>\n",
       "      <td>0</td>\n",
       "    </tr>\n",
       "    <tr>\n",
       "      <th>241</th>\n",
       "      <td>0</td>\n",
       "      <td>1</td>\n",
       "    </tr>\n",
       "    <tr>\n",
       "      <th>242</th>\n",
       "      <td>0</td>\n",
       "      <td>1</td>\n",
       "    </tr>\n",
       "    <tr>\n",
       "      <th>243</th>\n",
       "      <td>1</td>\n",
       "      <td>0</td>\n",
       "    </tr>\n",
       "  </tbody>\n",
       "</table>\n",
       "<p>244 rows × 2 columns</p>\n",
       "</div>"
      ],
      "text/plain": [
       "     Female  Male\n",
       "0         1     0\n",
       "1         0     1\n",
       "2         0     1\n",
       "3         0     1\n",
       "4         1     0\n",
       "..      ...   ...\n",
       "239       0     1\n",
       "240       1     0\n",
       "241       0     1\n",
       "242       0     1\n",
       "243       1     0\n",
       "\n",
       "[244 rows x 2 columns]"
      ]
     },
     "execution_count": 73,
     "metadata": {},
     "output_type": "execute_result"
    }
   ],
   "source": [
    "Sex"
   ]
  },
  {
   "cell_type": "code",
   "execution_count": 74,
   "id": "3a73801d",
   "metadata": {},
   "outputs": [],
   "source": [
    "final_df = pd.concat([df, Sex, Smoker, Day, Time], axis=0)\n"
   ]
  },
  {
   "cell_type": "code",
   "execution_count": 75,
   "id": "c4bac663",
   "metadata": {},
   "outputs": [],
   "source": [
    "final_df = final_df.fillna(value=0)"
   ]
  },
  {
   "cell_type": "code",
   "execution_count": 76,
   "id": "47d409a5",
   "metadata": {},
   "outputs": [
    {
     "data": {
      "text/html": [
       "<div>\n",
       "<style scoped>\n",
       "    .dataframe tbody tr th:only-of-type {\n",
       "        vertical-align: middle;\n",
       "    }\n",
       "\n",
       "    .dataframe tbody tr th {\n",
       "        vertical-align: top;\n",
       "    }\n",
       "\n",
       "    .dataframe thead th {\n",
       "        text-align: right;\n",
       "    }\n",
       "</style>\n",
       "<table border=\"1\" class=\"dataframe\">\n",
       "  <thead>\n",
       "    <tr style=\"text-align: right;\">\n",
       "      <th></th>\n",
       "      <th>total_bill</th>\n",
       "      <th>tip</th>\n",
       "      <th>sex</th>\n",
       "      <th>smoker</th>\n",
       "      <th>day</th>\n",
       "      <th>time</th>\n",
       "      <th>size</th>\n",
       "      <th>Female</th>\n",
       "      <th>Male</th>\n",
       "      <th>No</th>\n",
       "      <th>Yes</th>\n",
       "      <th>Fri</th>\n",
       "      <th>Sat</th>\n",
       "      <th>Sun</th>\n",
       "      <th>Thur</th>\n",
       "      <th>Dinner</th>\n",
       "      <th>Lunch</th>\n",
       "    </tr>\n",
       "  </thead>\n",
       "  <tbody>\n",
       "    <tr>\n",
       "      <th>0</th>\n",
       "      <td>16.99</td>\n",
       "      <td>1.01</td>\n",
       "      <td>0.0</td>\n",
       "      <td>0.0</td>\n",
       "      <td>2.0</td>\n",
       "      <td>0.0</td>\n",
       "      <td>2.0</td>\n",
       "      <td>0.0</td>\n",
       "      <td>0.0</td>\n",
       "      <td>0.0</td>\n",
       "      <td>0.0</td>\n",
       "      <td>0.0</td>\n",
       "      <td>0.0</td>\n",
       "      <td>0.0</td>\n",
       "      <td>0.0</td>\n",
       "      <td>0.0</td>\n",
       "      <td>0.0</td>\n",
       "    </tr>\n",
       "    <tr>\n",
       "      <th>1</th>\n",
       "      <td>10.34</td>\n",
       "      <td>1.66</td>\n",
       "      <td>1.0</td>\n",
       "      <td>0.0</td>\n",
       "      <td>2.0</td>\n",
       "      <td>0.0</td>\n",
       "      <td>3.0</td>\n",
       "      <td>0.0</td>\n",
       "      <td>0.0</td>\n",
       "      <td>0.0</td>\n",
       "      <td>0.0</td>\n",
       "      <td>0.0</td>\n",
       "      <td>0.0</td>\n",
       "      <td>0.0</td>\n",
       "      <td>0.0</td>\n",
       "      <td>0.0</td>\n",
       "      <td>0.0</td>\n",
       "    </tr>\n",
       "    <tr>\n",
       "      <th>2</th>\n",
       "      <td>21.01</td>\n",
       "      <td>3.50</td>\n",
       "      <td>1.0</td>\n",
       "      <td>0.0</td>\n",
       "      <td>2.0</td>\n",
       "      <td>0.0</td>\n",
       "      <td>3.0</td>\n",
       "      <td>0.0</td>\n",
       "      <td>0.0</td>\n",
       "      <td>0.0</td>\n",
       "      <td>0.0</td>\n",
       "      <td>0.0</td>\n",
       "      <td>0.0</td>\n",
       "      <td>0.0</td>\n",
       "      <td>0.0</td>\n",
       "      <td>0.0</td>\n",
       "      <td>0.0</td>\n",
       "    </tr>\n",
       "    <tr>\n",
       "      <th>3</th>\n",
       "      <td>23.68</td>\n",
       "      <td>3.31</td>\n",
       "      <td>1.0</td>\n",
       "      <td>0.0</td>\n",
       "      <td>2.0</td>\n",
       "      <td>0.0</td>\n",
       "      <td>2.0</td>\n",
       "      <td>0.0</td>\n",
       "      <td>0.0</td>\n",
       "      <td>0.0</td>\n",
       "      <td>0.0</td>\n",
       "      <td>0.0</td>\n",
       "      <td>0.0</td>\n",
       "      <td>0.0</td>\n",
       "      <td>0.0</td>\n",
       "      <td>0.0</td>\n",
       "      <td>0.0</td>\n",
       "    </tr>\n",
       "    <tr>\n",
       "      <th>4</th>\n",
       "      <td>24.59</td>\n",
       "      <td>3.61</td>\n",
       "      <td>0.0</td>\n",
       "      <td>0.0</td>\n",
       "      <td>2.0</td>\n",
       "      <td>0.0</td>\n",
       "      <td>4.0</td>\n",
       "      <td>0.0</td>\n",
       "      <td>0.0</td>\n",
       "      <td>0.0</td>\n",
       "      <td>0.0</td>\n",
       "      <td>0.0</td>\n",
       "      <td>0.0</td>\n",
       "      <td>0.0</td>\n",
       "      <td>0.0</td>\n",
       "      <td>0.0</td>\n",
       "      <td>0.0</td>\n",
       "    </tr>\n",
       "    <tr>\n",
       "      <th>...</th>\n",
       "      <td>...</td>\n",
       "      <td>...</td>\n",
       "      <td>...</td>\n",
       "      <td>...</td>\n",
       "      <td>...</td>\n",
       "      <td>...</td>\n",
       "      <td>...</td>\n",
       "      <td>...</td>\n",
       "      <td>...</td>\n",
       "      <td>...</td>\n",
       "      <td>...</td>\n",
       "      <td>...</td>\n",
       "      <td>...</td>\n",
       "      <td>...</td>\n",
       "      <td>...</td>\n",
       "      <td>...</td>\n",
       "      <td>...</td>\n",
       "    </tr>\n",
       "    <tr>\n",
       "      <th>239</th>\n",
       "      <td>0.00</td>\n",
       "      <td>0.00</td>\n",
       "      <td>0.0</td>\n",
       "      <td>0.0</td>\n",
       "      <td>0.0</td>\n",
       "      <td>0.0</td>\n",
       "      <td>0.0</td>\n",
       "      <td>0.0</td>\n",
       "      <td>0.0</td>\n",
       "      <td>0.0</td>\n",
       "      <td>0.0</td>\n",
       "      <td>0.0</td>\n",
       "      <td>0.0</td>\n",
       "      <td>0.0</td>\n",
       "      <td>0.0</td>\n",
       "      <td>1.0</td>\n",
       "      <td>0.0</td>\n",
       "    </tr>\n",
       "    <tr>\n",
       "      <th>240</th>\n",
       "      <td>0.00</td>\n",
       "      <td>0.00</td>\n",
       "      <td>0.0</td>\n",
       "      <td>0.0</td>\n",
       "      <td>0.0</td>\n",
       "      <td>0.0</td>\n",
       "      <td>0.0</td>\n",
       "      <td>0.0</td>\n",
       "      <td>0.0</td>\n",
       "      <td>0.0</td>\n",
       "      <td>0.0</td>\n",
       "      <td>0.0</td>\n",
       "      <td>0.0</td>\n",
       "      <td>0.0</td>\n",
       "      <td>0.0</td>\n",
       "      <td>1.0</td>\n",
       "      <td>0.0</td>\n",
       "    </tr>\n",
       "    <tr>\n",
       "      <th>241</th>\n",
       "      <td>0.00</td>\n",
       "      <td>0.00</td>\n",
       "      <td>0.0</td>\n",
       "      <td>0.0</td>\n",
       "      <td>0.0</td>\n",
       "      <td>0.0</td>\n",
       "      <td>0.0</td>\n",
       "      <td>0.0</td>\n",
       "      <td>0.0</td>\n",
       "      <td>0.0</td>\n",
       "      <td>0.0</td>\n",
       "      <td>0.0</td>\n",
       "      <td>0.0</td>\n",
       "      <td>0.0</td>\n",
       "      <td>0.0</td>\n",
       "      <td>1.0</td>\n",
       "      <td>0.0</td>\n",
       "    </tr>\n",
       "    <tr>\n",
       "      <th>242</th>\n",
       "      <td>0.00</td>\n",
       "      <td>0.00</td>\n",
       "      <td>0.0</td>\n",
       "      <td>0.0</td>\n",
       "      <td>0.0</td>\n",
       "      <td>0.0</td>\n",
       "      <td>0.0</td>\n",
       "      <td>0.0</td>\n",
       "      <td>0.0</td>\n",
       "      <td>0.0</td>\n",
       "      <td>0.0</td>\n",
       "      <td>0.0</td>\n",
       "      <td>0.0</td>\n",
       "      <td>0.0</td>\n",
       "      <td>0.0</td>\n",
       "      <td>1.0</td>\n",
       "      <td>0.0</td>\n",
       "    </tr>\n",
       "    <tr>\n",
       "      <th>243</th>\n",
       "      <td>0.00</td>\n",
       "      <td>0.00</td>\n",
       "      <td>0.0</td>\n",
       "      <td>0.0</td>\n",
       "      <td>0.0</td>\n",
       "      <td>0.0</td>\n",
       "      <td>0.0</td>\n",
       "      <td>0.0</td>\n",
       "      <td>0.0</td>\n",
       "      <td>0.0</td>\n",
       "      <td>0.0</td>\n",
       "      <td>0.0</td>\n",
       "      <td>0.0</td>\n",
       "      <td>0.0</td>\n",
       "      <td>0.0</td>\n",
       "      <td>1.0</td>\n",
       "      <td>0.0</td>\n",
       "    </tr>\n",
       "  </tbody>\n",
       "</table>\n",
       "<p>1220 rows × 17 columns</p>\n",
       "</div>"
      ],
      "text/plain": [
       "     total_bill   tip  sex  smoker  day  time  size  Female  Male   No  Yes  \\\n",
       "0         16.99  1.01  0.0     0.0  2.0   0.0   2.0     0.0   0.0  0.0  0.0   \n",
       "1         10.34  1.66  1.0     0.0  2.0   0.0   3.0     0.0   0.0  0.0  0.0   \n",
       "2         21.01  3.50  1.0     0.0  2.0   0.0   3.0     0.0   0.0  0.0  0.0   \n",
       "3         23.68  3.31  1.0     0.0  2.0   0.0   2.0     0.0   0.0  0.0  0.0   \n",
       "4         24.59  3.61  0.0     0.0  2.0   0.0   4.0     0.0   0.0  0.0  0.0   \n",
       "..          ...   ...  ...     ...  ...   ...   ...     ...   ...  ...  ...   \n",
       "239        0.00  0.00  0.0     0.0  0.0   0.0   0.0     0.0   0.0  0.0  0.0   \n",
       "240        0.00  0.00  0.0     0.0  0.0   0.0   0.0     0.0   0.0  0.0  0.0   \n",
       "241        0.00  0.00  0.0     0.0  0.0   0.0   0.0     0.0   0.0  0.0  0.0   \n",
       "242        0.00  0.00  0.0     0.0  0.0   0.0   0.0     0.0   0.0  0.0  0.0   \n",
       "243        0.00  0.00  0.0     0.0  0.0   0.0   0.0     0.0   0.0  0.0  0.0   \n",
       "\n",
       "     Fri  Sat  Sun  Thur  Dinner  Lunch  \n",
       "0    0.0  0.0  0.0   0.0     0.0    0.0  \n",
       "1    0.0  0.0  0.0   0.0     0.0    0.0  \n",
       "2    0.0  0.0  0.0   0.0     0.0    0.0  \n",
       "3    0.0  0.0  0.0   0.0     0.0    0.0  \n",
       "4    0.0  0.0  0.0   0.0     0.0    0.0  \n",
       "..   ...  ...  ...   ...     ...    ...  \n",
       "239  0.0  0.0  0.0   0.0     1.0    0.0  \n",
       "240  0.0  0.0  0.0   0.0     1.0    0.0  \n",
       "241  0.0  0.0  0.0   0.0     1.0    0.0  \n",
       "242  0.0  0.0  0.0   0.0     1.0    0.0  \n",
       "243  0.0  0.0  0.0   0.0     1.0    0.0  \n",
       "\n",
       "[1220 rows x 17 columns]"
      ]
     },
     "execution_count": 76,
     "metadata": {},
     "output_type": "execute_result"
    }
   ],
   "source": [
    "final_df"
   ]
  },
  {
   "cell_type": "code",
   "execution_count": null,
   "id": "67835cfc",
   "metadata": {},
   "outputs": [],
   "source": []
  },
  {
   "cell_type": "code",
   "execution_count": 15,
   "id": "9cb59877",
   "metadata": {},
   "outputs": [],
   "source": [
    "\n"
   ]
  },
  {
   "cell_type": "code",
   "execution_count": 16,
   "id": "2a97eb45",
   "metadata": {},
   "outputs": [],
   "source": []
  },
  {
   "cell_type": "code",
   "execution_count": 17,
   "id": "5df72115",
   "metadata": {},
   "outputs": [],
   "source": []
  },
  {
   "cell_type": "code",
   "execution_count": 77,
   "id": "d06f6e6c",
   "metadata": {},
   "outputs": [
    {
     "data": {
      "text/html": [
       "<div>\n",
       "<style scoped>\n",
       "    .dataframe tbody tr th:only-of-type {\n",
       "        vertical-align: middle;\n",
       "    }\n",
       "\n",
       "    .dataframe tbody tr th {\n",
       "        vertical-align: top;\n",
       "    }\n",
       "\n",
       "    .dataframe thead th {\n",
       "        text-align: right;\n",
       "    }\n",
       "</style>\n",
       "<table border=\"1\" class=\"dataframe\">\n",
       "  <thead>\n",
       "    <tr style=\"text-align: right;\">\n",
       "      <th></th>\n",
       "      <th>total_bill</th>\n",
       "      <th>tip</th>\n",
       "      <th>sex</th>\n",
       "      <th>smoker</th>\n",
       "      <th>day</th>\n",
       "      <th>time</th>\n",
       "      <th>size</th>\n",
       "      <th>Female</th>\n",
       "      <th>Male</th>\n",
       "      <th>No</th>\n",
       "      <th>Yes</th>\n",
       "      <th>Fri</th>\n",
       "      <th>Sat</th>\n",
       "      <th>Sun</th>\n",
       "      <th>Thur</th>\n",
       "      <th>Dinner</th>\n",
       "      <th>Lunch</th>\n",
       "    </tr>\n",
       "  </thead>\n",
       "  <tbody>\n",
       "    <tr>\n",
       "      <th>0</th>\n",
       "      <td>16.99</td>\n",
       "      <td>1.01</td>\n",
       "      <td>0.0</td>\n",
       "      <td>0.0</td>\n",
       "      <td>2.0</td>\n",
       "      <td>0.0</td>\n",
       "      <td>2.0</td>\n",
       "      <td>0.0</td>\n",
       "      <td>0.0</td>\n",
       "      <td>0.0</td>\n",
       "      <td>0.0</td>\n",
       "      <td>0.0</td>\n",
       "      <td>0.0</td>\n",
       "      <td>0.0</td>\n",
       "      <td>0.0</td>\n",
       "      <td>0.0</td>\n",
       "      <td>0.0</td>\n",
       "    </tr>\n",
       "    <tr>\n",
       "      <th>1</th>\n",
       "      <td>10.34</td>\n",
       "      <td>1.66</td>\n",
       "      <td>1.0</td>\n",
       "      <td>0.0</td>\n",
       "      <td>2.0</td>\n",
       "      <td>0.0</td>\n",
       "      <td>3.0</td>\n",
       "      <td>0.0</td>\n",
       "      <td>0.0</td>\n",
       "      <td>0.0</td>\n",
       "      <td>0.0</td>\n",
       "      <td>0.0</td>\n",
       "      <td>0.0</td>\n",
       "      <td>0.0</td>\n",
       "      <td>0.0</td>\n",
       "      <td>0.0</td>\n",
       "      <td>0.0</td>\n",
       "    </tr>\n",
       "    <tr>\n",
       "      <th>2</th>\n",
       "      <td>21.01</td>\n",
       "      <td>3.50</td>\n",
       "      <td>1.0</td>\n",
       "      <td>0.0</td>\n",
       "      <td>2.0</td>\n",
       "      <td>0.0</td>\n",
       "      <td>3.0</td>\n",
       "      <td>0.0</td>\n",
       "      <td>0.0</td>\n",
       "      <td>0.0</td>\n",
       "      <td>0.0</td>\n",
       "      <td>0.0</td>\n",
       "      <td>0.0</td>\n",
       "      <td>0.0</td>\n",
       "      <td>0.0</td>\n",
       "      <td>0.0</td>\n",
       "      <td>0.0</td>\n",
       "    </tr>\n",
       "    <tr>\n",
       "      <th>3</th>\n",
       "      <td>23.68</td>\n",
       "      <td>3.31</td>\n",
       "      <td>1.0</td>\n",
       "      <td>0.0</td>\n",
       "      <td>2.0</td>\n",
       "      <td>0.0</td>\n",
       "      <td>2.0</td>\n",
       "      <td>0.0</td>\n",
       "      <td>0.0</td>\n",
       "      <td>0.0</td>\n",
       "      <td>0.0</td>\n",
       "      <td>0.0</td>\n",
       "      <td>0.0</td>\n",
       "      <td>0.0</td>\n",
       "      <td>0.0</td>\n",
       "      <td>0.0</td>\n",
       "      <td>0.0</td>\n",
       "    </tr>\n",
       "    <tr>\n",
       "      <th>4</th>\n",
       "      <td>24.59</td>\n",
       "      <td>3.61</td>\n",
       "      <td>0.0</td>\n",
       "      <td>0.0</td>\n",
       "      <td>2.0</td>\n",
       "      <td>0.0</td>\n",
       "      <td>4.0</td>\n",
       "      <td>0.0</td>\n",
       "      <td>0.0</td>\n",
       "      <td>0.0</td>\n",
       "      <td>0.0</td>\n",
       "      <td>0.0</td>\n",
       "      <td>0.0</td>\n",
       "      <td>0.0</td>\n",
       "      <td>0.0</td>\n",
       "      <td>0.0</td>\n",
       "      <td>0.0</td>\n",
       "    </tr>\n",
       "  </tbody>\n",
       "</table>\n",
       "</div>"
      ],
      "text/plain": [
       "   total_bill   tip  sex  smoker  day  time  size  Female  Male   No  Yes  \\\n",
       "0       16.99  1.01  0.0     0.0  2.0   0.0   2.0     0.0   0.0  0.0  0.0   \n",
       "1       10.34  1.66  1.0     0.0  2.0   0.0   3.0     0.0   0.0  0.0  0.0   \n",
       "2       21.01  3.50  1.0     0.0  2.0   0.0   3.0     0.0   0.0  0.0  0.0   \n",
       "3       23.68  3.31  1.0     0.0  2.0   0.0   2.0     0.0   0.0  0.0  0.0   \n",
       "4       24.59  3.61  0.0     0.0  2.0   0.0   4.0     0.0   0.0  0.0  0.0   \n",
       "\n",
       "   Fri  Sat  Sun  Thur  Dinner  Lunch  \n",
       "0  0.0  0.0  0.0   0.0     0.0    0.0  \n",
       "1  0.0  0.0  0.0   0.0     0.0    0.0  \n",
       "2  0.0  0.0  0.0   0.0     0.0    0.0  \n",
       "3  0.0  0.0  0.0   0.0     0.0    0.0  \n",
       "4  0.0  0.0  0.0   0.0     0.0    0.0  "
      ]
     },
     "execution_count": 77,
     "metadata": {},
     "output_type": "execute_result"
    }
   ],
   "source": [
    "final_df.head()"
   ]
  },
  {
   "cell_type": "markdown",
   "id": "0ddccf62",
   "metadata": {},
   "source": [
    "# Data visualization\n"
   ]
  },
  {
   "cell_type": "code",
   "execution_count": 53,
   "id": "518233ef",
   "metadata": {},
   "outputs": [
    {
     "data": {
      "text/plain": [
       "2.4874636677678414"
      ]
     },
     "execution_count": 53,
     "metadata": {},
     "output_type": "execute_result"
    }
   ],
   "source": [
    "final_df['tip'].skew()\n",
    "#checking skewness"
   ]
  },
  {
   "cell_type": "code",
   "execution_count": 56,
   "id": "d5794a9d",
   "metadata": {},
   "outputs": [
    {
     "data": {
      "text/plain": [
       "['total_bill', 'tip', 'sex', 'smoker', 'day', 'time', 'size']"
      ]
     },
     "execution_count": 56,
     "metadata": {},
     "output_type": "execute_result"
    }
   ],
   "source": [
    "df.columns.tolist()"
   ]
  },
  {
   "cell_type": "code",
   "execution_count": 78,
   "id": "f2f8b577",
   "metadata": {},
   "outputs": [],
   "source": [
    "#making a function to check skewness for all cols\n",
    "def left_or_right_skew(df,col):\n",
    "    \n",
    "    rs=final_df[value].skew()\n",
    "    \n",
    "   \n",
    "    if rs > 0:\n",
    "        return \"positive (+ve) skewed\"\n",
    "    \n",
    "    elif rs == 0:\n",
    "        return \"normal skewed\"\n",
    "    \n",
    "    elif rs < 0:\n",
    "        return \"negative (-ve) skewed\"\n",
    "        "
   ]
  },
  {
   "cell_type": "code",
   "execution_count": 79,
   "id": "47308f5f",
   "metadata": {},
   "outputs": [
    {
     "name": "stdout",
     "output_type": "stream",
     "text": [
      "<class 'pandas.core.frame.DataFrame'>\n",
      "RangeIndex: 244 entries, 0 to 243\n",
      "Data columns (total 7 columns):\n",
      " #   Column      Non-Null Count  Dtype  \n",
      "---  ------      --------------  -----  \n",
      " 0   total_bill  244 non-null    float64\n",
      " 1   tip         244 non-null    float64\n",
      " 2   sex         244 non-null    int64  \n",
      " 3   smoker      244 non-null    int64  \n",
      " 4   day         244 non-null    int64  \n",
      " 5   time        244 non-null    int64  \n",
      " 6   size        244 non-null    int64  \n",
      "dtypes: float64(2), int64(5)\n",
      "memory usage: 13.5 KB\n"
     ]
    }
   ],
   "source": [
    "df.info()"
   ]
  },
  {
   "cell_type": "code",
   "execution_count": 80,
   "id": "d5bb8122",
   "metadata": {},
   "outputs": [
    {
     "name": "stdout",
     "output_type": "stream",
     "text": [
      "total_bill ----> positive (+ve) skewed\n",
      "tip ----> positive (+ve) skewed\n",
      "size ----> positive (+ve) skewed\n"
     ]
    }
   ],
   "source": [
    "cols = [\n",
    "    'total_bill',\n",
    "    'tip',\n",
    "    'size'\n",
    "    \n",
    "]\n",
    "for value in cols:\n",
    "    \n",
    "    print(value, \"---->\", left_or_right_skew(final_df,value))"
   ]
  },
  {
   "cell_type": "code",
   "execution_count": 81,
   "id": "571482fc",
   "metadata": {},
   "outputs": [
    {
     "name": "stderr",
     "output_type": "stream",
     "text": [
      "/Users/amitpandey/opt/anaconda3/lib/python3.9/site-packages/seaborn/distributions.py:2619: FutureWarning: `distplot` is a deprecated function and will be removed in a future version. Please adapt your code to use either `displot` (a figure-level function with similar flexibility) or `histplot` (an axes-level function for histograms).\n",
      "  warnings.warn(msg, FutureWarning)\n",
      "/Users/amitpandey/opt/anaconda3/lib/python3.9/site-packages/seaborn/distributions.py:2619: FutureWarning: `distplot` is a deprecated function and will be removed in a future version. Please adapt your code to use either `displot` (a figure-level function with similar flexibility) or `histplot` (an axes-level function for histograms).\n",
      "  warnings.warn(msg, FutureWarning)\n",
      "/Users/amitpandey/opt/anaconda3/lib/python3.9/site-packages/seaborn/distributions.py:2619: FutureWarning: `distplot` is a deprecated function and will be removed in a future version. Please adapt your code to use either `displot` (a figure-level function with similar flexibility) or `histplot` (an axes-level function for histograms).\n",
      "  warnings.warn(msg, FutureWarning)\n",
      "/Users/amitpandey/opt/anaconda3/lib/python3.9/site-packages/seaborn/distributions.py:2619: FutureWarning: `distplot` is a deprecated function and will be removed in a future version. Please adapt your code to use either `displot` (a figure-level function with similar flexibility) or `histplot` (an axes-level function for histograms).\n",
      "  warnings.warn(msg, FutureWarning)\n",
      "/Users/amitpandey/opt/anaconda3/lib/python3.9/site-packages/seaborn/distributions.py:2619: FutureWarning: `distplot` is a deprecated function and will be removed in a future version. Please adapt your code to use either `displot` (a figure-level function with similar flexibility) or `histplot` (an axes-level function for histograms).\n",
      "  warnings.warn(msg, FutureWarning)\n",
      "/Users/amitpandey/opt/anaconda3/lib/python3.9/site-packages/seaborn/distributions.py:2619: FutureWarning: `distplot` is a deprecated function and will be removed in a future version. Please adapt your code to use either `displot` (a figure-level function with similar flexibility) or `histplot` (an axes-level function for histograms).\n",
      "  warnings.warn(msg, FutureWarning)\n",
      "/Users/amitpandey/opt/anaconda3/lib/python3.9/site-packages/seaborn/distributions.py:2619: FutureWarning: `distplot` is a deprecated function and will be removed in a future version. Please adapt your code to use either `displot` (a figure-level function with similar flexibility) or `histplot` (an axes-level function for histograms).\n",
      "  warnings.warn(msg, FutureWarning)\n",
      "/Users/amitpandey/opt/anaconda3/lib/python3.9/site-packages/seaborn/distributions.py:2619: FutureWarning: `distplot` is a deprecated function and will be removed in a future version. Please adapt your code to use either `displot` (a figure-level function with similar flexibility) or `histplot` (an axes-level function for histograms).\n",
      "  warnings.warn(msg, FutureWarning)\n",
      "/Users/amitpandey/opt/anaconda3/lib/python3.9/site-packages/seaborn/distributions.py:2619: FutureWarning: `distplot` is a deprecated function and will be removed in a future version. Please adapt your code to use either `displot` (a figure-level function with similar flexibility) or `histplot` (an axes-level function for histograms).\n",
      "  warnings.warn(msg, FutureWarning)\n",
      "/Users/amitpandey/opt/anaconda3/lib/python3.9/site-packages/seaborn/distributions.py:2619: FutureWarning: `distplot` is a deprecated function and will be removed in a future version. Please adapt your code to use either `displot` (a figure-level function with similar flexibility) or `histplot` (an axes-level function for histograms).\n",
      "  warnings.warn(msg, FutureWarning)\n",
      "/Users/amitpandey/opt/anaconda3/lib/python3.9/site-packages/seaborn/distributions.py:2619: FutureWarning: `distplot` is a deprecated function and will be removed in a future version. Please adapt your code to use either `displot` (a figure-level function with similar flexibility) or `histplot` (an axes-level function for histograms).\n",
      "  warnings.warn(msg, FutureWarning)\n",
      "/Users/amitpandey/opt/anaconda3/lib/python3.9/site-packages/seaborn/distributions.py:2619: FutureWarning: `distplot` is a deprecated function and will be removed in a future version. Please adapt your code to use either `displot` (a figure-level function with similar flexibility) or `histplot` (an axes-level function for histograms).\n",
      "  warnings.warn(msg, FutureWarning)\n",
      "/Users/amitpandey/opt/anaconda3/lib/python3.9/site-packages/seaborn/distributions.py:2619: FutureWarning: `distplot` is a deprecated function and will be removed in a future version. Please adapt your code to use either `displot` (a figure-level function with similar flexibility) or `histplot` (an axes-level function for histograms).\n",
      "  warnings.warn(msg, FutureWarning)\n",
      "/Users/amitpandey/opt/anaconda3/lib/python3.9/site-packages/seaborn/distributions.py:2619: FutureWarning: `distplot` is a deprecated function and will be removed in a future version. Please adapt your code to use either `displot` (a figure-level function with similar flexibility) or `histplot` (an axes-level function for histograms).\n",
      "  warnings.warn(msg, FutureWarning)\n",
      "/Users/amitpandey/opt/anaconda3/lib/python3.9/site-packages/seaborn/distributions.py:2619: FutureWarning: `distplot` is a deprecated function and will be removed in a future version. Please adapt your code to use either `displot` (a figure-level function with similar flexibility) or `histplot` (an axes-level function for histograms).\n",
      "  warnings.warn(msg, FutureWarning)\n",
      "/Users/amitpandey/opt/anaconda3/lib/python3.9/site-packages/seaborn/distributions.py:2619: FutureWarning: `distplot` is a deprecated function and will be removed in a future version. Please adapt your code to use either `displot` (a figure-level function with similar flexibility) or `histplot` (an axes-level function for histograms).\n",
      "  warnings.warn(msg, FutureWarning)\n",
      "/Users/amitpandey/opt/anaconda3/lib/python3.9/site-packages/seaborn/distributions.py:2619: FutureWarning: `distplot` is a deprecated function and will be removed in a future version. Please adapt your code to use either `displot` (a figure-level function with similar flexibility) or `histplot` (an axes-level function for histograms).\n",
      "  warnings.warn(msg, FutureWarning)\n"
     ]
    },
    {
     "data": {
      "text/plain": [
       "<seaborn.axisgrid.FacetGrid at 0x7ff5aaed4fa0>"
      ]
     },
     "execution_count": 81,
     "metadata": {},
     "output_type": "execute_result"
    },
    {
     "data": {
      "image/png": "[encoded data removed]",
      "text/plain": [
       "<Figure size 864x1080 with 17 Axes>"
      ]
     },
     "metadata": {
      "needs_background": "light"
     },
     "output_type": "display_data"
    }
   ],
   "source": [
    "#histograph of categorical cols -> single\n",
    "import seaborn as sns\n",
    "num = [f for f in final_df.columns if final_df.dtypes[f] != 'object' ]\n",
    "nd = pd.melt(final_df, value_vars = num)\n",
    "n1 = sns.FacetGrid (nd, col='variable', col_wrap=4, sharex=False, sharey = False)\n",
    "n1 = n1.map(sns.distplot, 'value')\n",
    "n1"
   ]
  },
  {
   "cell_type": "code",
   "execution_count": null,
   "id": "216a55e3",
   "metadata": {},
   "outputs": [],
   "source": [
    "#boxplot for features~ to check for outliers"
   ]
  },
  {
   "cell_type": "code",
   "execution_count": 88,
   "id": "0fc0009c",
   "metadata": {},
   "outputs": [
    {
     "data": {
      "image/png": "[encoded data removed]",
      "text/plain": [
       "<Figure size 360x360 with 1 Axes>"
      ]
     },
     "metadata": {
      "needs_background": "light"
     },
     "output_type": "display_data"
    },
    {
     "data": {
      "image/png": "[encoded data removed]",
      "text/plain": [
       "<Figure size 360x360 with 1 Axes>"
      ]
     },
     "metadata": {
      "needs_background": "light"
     },
     "output_type": "display_data"
    },
    {
     "data": {
      "image/png": "[encoded data removed]",
      "text/plain": [
       "<Figure size 360x360 with 1 Axes>"
      ]
     },
     "metadata": {
      "needs_background": "light"
     },
     "output_type": "display_data"
    }
   ],
   "source": [
    "for value in cols:\n",
    "    sns.catplot(data= final_df, x=value, kind=\"box\")\n",
    "    \n",
    "# outliers present in total_bill, size"
   ]
  },
  {
   "cell_type": "code",
   "execution_count": 82,
   "id": "d16dd37a",
   "metadata": {},
   "outputs": [
    {
     "data": {
      "text/plain": [
       "<seaborn.axisgrid.FacetGrid at 0x7ff58a5ffa60>"
      ]
     },
     "execution_count": 82,
     "metadata": {},
     "output_type": "execute_result"
    },
    {
     "data": {
      "image/png": "[encoded data removed]",
      "text/plain": [
       "<Figure size 360x360 with 1 Axes>"
      ]
     },
     "metadata": {
      "needs_background": "light"
     },
     "output_type": "display_data"
    }
   ],
   "source": [
    "#boxplot for target\n",
    "sns.catplot(data= final_df, x='tip', kind=\"box\")\n",
    "\n",
    "#outliers present in tip\n",
    "\n"
   ]
  },
  {
   "cell_type": "code",
   "execution_count": 83,
   "id": "9678a0c9",
   "metadata": {},
   "outputs": [],
   "source": [
    "#OUTLIERS TREATMENT   (i didnt get this part), im confused here\n",
    "def ul_ll_iqr(df,col):\n",
    "    \n",
    "    q1 = df[col].quantile(0.25)\n",
    "    q3 = df[col].quantile(0.75)\n",
    "    IQR = q3-q1\n",
    "    ul = q3+1.5*IQR\n",
    "    ll = q1-1.5*IQR\n",
    "    \n",
    "    lon_data = df[col]\n",
    "    outliers = lon_data[(lon_data > ul) | (lon_data < ll)]\n",
    "    \n",
    "    return ul, ll"
   ]
  },
  {
   "cell_type": "code",
   "execution_count": 84,
   "id": "9276f446",
   "metadata": {},
   "outputs": [],
   "source": [
    "u, l = ul_ll_iqr(final_df,'total_bill')\n"
   ]
  },
  {
   "cell_type": "code",
   "execution_count": 85,
   "id": "9d3d58dd",
   "metadata": {},
   "outputs": [
    {
     "data": {
      "text/plain": [
       "(0.0, 0.0)"
      ]
     },
     "execution_count": 85,
     "metadata": {},
     "output_type": "execute_result"
    }
   ],
   "source": [
    "u, l"
   ]
  },
  {
   "cell_type": "code",
   "execution_count": 86,
   "id": "a646b40b",
   "metadata": {},
   "outputs": [],
   "source": [
    "temp_df = final_df[final_df['total_bill']< u]"
   ]
  },
  {
   "cell_type": "code",
   "execution_count": 89,
   "id": "ca0c90cd",
   "metadata": {},
   "outputs": [
    {
     "name": "stdout",
     "output_type": "stream",
     "text": [
      "0      1.471690\n",
      "1      0.720759\n",
      "2      1.925636\n",
      "3      2.227138\n",
      "4      2.329897\n",
      "         ...   \n",
      "239    0.446853\n",
      "240    0.446853\n",
      "241    0.446853\n",
      "242    0.446853\n",
      "243    0.446853\n",
      "Name: total_bill, Length: 1220, dtype: float64\n"
     ]
    }
   ],
   "source": [
    "from scipy import stats\n",
    "z=np.abs(stats.zscore(final_df['total_bill']))\n",
    "print(z)"
   ]
  },
  {
   "cell_type": "code",
   "execution_count": 90,
   "id": "1ada8cc3",
   "metadata": {},
   "outputs": [
    {
     "name": "stdout",
     "output_type": "stream",
     "text": [
      "(array([  3,   4,   5,   7,  11,  23,  28,  35,  39,  44,  46,  47,  48,\n",
      "        52,  54,  56,  57,  59,  72,  73,  77,  78,  83,  85,  88,  90,\n",
      "        91,  94,  95,  96, 102, 103, 107, 112, 113, 114, 116, 119, 125,\n",
      "       129, 141, 142, 143, 153, 155, 156, 157, 165, 167, 170, 173, 175,\n",
      "       179, 180, 181, 182, 183, 184, 187, 189, 192, 197, 206, 207, 208,\n",
      "       210, 211, 212, 214, 216, 219, 229, 230, 237, 238, 239, 240, 241]),)\n"
     ]
    }
   ],
   "source": [
    "threshold=3\n",
    "print(np.where(z>2))"
   ]
  },
  {
   "cell_type": "code",
   "execution_count": null,
   "id": "f1464cad",
   "metadata": {},
   "outputs": [],
   "source": []
  },
  {
   "cell_type": "code",
   "execution_count": 91,
   "id": "1ee990fb",
   "metadata": {},
   "outputs": [
    {
     "name": "stdout",
     "output_type": "stream",
     "text": [
      "<class 'pandas.core.frame.DataFrame'>\n",
      "RangeIndex: 244 entries, 0 to 243\n",
      "Data columns (total 7 columns):\n",
      " #   Column      Non-Null Count  Dtype  \n",
      "---  ------      --------------  -----  \n",
      " 0   total_bill  244 non-null    float64\n",
      " 1   tip         244 non-null    float64\n",
      " 2   sex         244 non-null    int64  \n",
      " 3   smoker      244 non-null    int64  \n",
      " 4   day         244 non-null    int64  \n",
      " 5   time        244 non-null    int64  \n",
      " 6   size        244 non-null    int64  \n",
      "dtypes: float64(2), int64(5)\n",
      "memory usage: 13.5 KB\n"
     ]
    }
   ],
   "source": [
    "df.info()"
   ]
  },
  {
   "cell_type": "code",
   "execution_count": null,
   "id": "6d2cd5a2",
   "metadata": {},
   "outputs": [],
   "source": []
  },
  {
   "cell_type": "code",
   "execution_count": null,
   "id": "76b8e4f4",
   "metadata": {},
   "outputs": [],
   "source": []
  },
  {
   "cell_type": "code",
   "execution_count": 92,
   "id": "bac196b4",
   "metadata": {},
   "outputs": [
    {
     "data": {
      "image/png": "[encoded data removed]",
      "text/plain": [
       "<Figure size 360x360 with 1 Axes>"
      ]
     },
     "metadata": {
      "needs_background": "light"
     },
     "output_type": "display_data"
    },
    {
     "data": {
      "image/png": "[encoded data removed]",
      "text/plain": [
       "<Figure size 360x360 with 1 Axes>"
      ]
     },
     "metadata": {
      "needs_background": "light"
     },
     "output_type": "display_data"
    },
    {
     "data": {
      "image/png": "[encoded data removed]",
      "text/plain": [
       "<Figure size 360x360 with 1 Axes>"
      ]
     },
     "metadata": {
      "needs_background": "light"
     },
     "output_type": "display_data"
    },
    {
     "data": {
      "image/png": "[encoded data removed]",
      "text/plain": [
       "<Figure size 360x360 with 1 Axes>"
      ]
     },
     "metadata": {
      "needs_background": "light"
     },
     "output_type": "display_data"
    }
   ],
   "source": [
    "#BAR GRAPH FOR CATEGORICAL COLS wrt target\n",
    "cat_cols = ['sex', 'smoker', 'time', 'day']\n",
    "for value in cat_cols:\n",
    "    sns.catplot(data=df, x = value, y = 'tip', kind = 'bar')\n"
   ]
  },
  {
   "cell_type": "code",
   "execution_count": null,
   "id": "1953b9f1",
   "metadata": {},
   "outputs": [],
   "source": []
  },
  {
   "cell_type": "code",
   "execution_count": null,
   "id": "ffc0a0a9",
   "metadata": {},
   "outputs": [],
   "source": []
  },
  {
   "cell_type": "code",
   "execution_count": null,
   "id": "a0fa825d",
   "metadata": {},
   "outputs": [],
   "source": []
  },
  {
   "cell_type": "code",
   "execution_count": null,
   "id": "7b28c458",
   "metadata": {},
   "outputs": [],
   "source": []
  },
  {
   "cell_type": "code",
   "execution_count": null,
   "id": "9aafd928",
   "metadata": {},
   "outputs": [],
   "source": []
  },
  {
   "cell_type": "code",
   "execution_count": null,
   "id": "1ac37371",
   "metadata": {},
   "outputs": [],
   "source": []
  },
  {
   "cell_type": "code",
   "execution_count": 93,
   "id": "0c9b9a27",
   "metadata": {},
   "outputs": [],
   "source": [
    "#BAR GRAPH OR FREQUENCIES of values in categorical cols"
   ]
  },
  {
   "cell_type": "code",
   "execution_count": 94,
   "id": "38df7972",
   "metadata": {},
   "outputs": [
    {
     "data": {
      "text/plain": [
       "<AxesSubplot:>"
      ]
     },
     "execution_count": 94,
     "metadata": {},
     "output_type": "execute_result"
    },
    {
     "data": {
      "image/png": "[encoded data removed]",
      "text/plain": [
       "<Figure size 432x288 with 1 Axes>"
      ]
     },
     "metadata": {
      "needs_background": "light"
     },
     "output_type": "display_data"
    }
   ],
   "source": [
    "df[\"sex\"].value_counts().plot(kind='bar')  "
   ]
  },
  {
   "cell_type": "code",
   "execution_count": 95,
   "id": "5aa0c067",
   "metadata": {},
   "outputs": [
    {
     "data": {
      "text/plain": [
       "<AxesSubplot:>"
      ]
     },
     "execution_count": 95,
     "metadata": {},
     "output_type": "execute_result"
    },
    {
     "data": {
      "image/png": "[encoded data removed]",
      "text/plain": [
       "<Figure size 432x288 with 1 Axes>"
      ]
     },
     "metadata": {
      "needs_background": "light"
     },
     "output_type": "display_data"
    }
   ],
   "source": [
    "df[\"day\"].value_counts().plot(kind='bar')  "
   ]
  },
  {
   "cell_type": "code",
   "execution_count": 96,
   "id": "696558c1",
   "metadata": {},
   "outputs": [
    {
     "data": {
      "text/plain": [
       "<AxesSubplot:>"
      ]
     },
     "execution_count": 96,
     "metadata": {},
     "output_type": "execute_result"
    },
    {
     "data": {
      "image/png": "[encoded data removed]",
      "text/plain": [
       "<Figure size 432x288 with 1 Axes>"
      ]
     },
     "metadata": {
      "needs_background": "light"
     },
     "output_type": "display_data"
    }
   ],
   "source": [
    "df[\"smoker\"].value_counts().plot(kind='bar')  "
   ]
  },
  {
   "cell_type": "code",
   "execution_count": 97,
   "id": "31354764",
   "metadata": {},
   "outputs": [
    {
     "data": {
      "text/plain": [
       "<AxesSubplot:>"
      ]
     },
     "execution_count": 97,
     "metadata": {},
     "output_type": "execute_result"
    },
    {
     "data": {
      "image/png": "[encoded data removed]",
      "text/plain": [
       "<Figure size 432x288 with 1 Axes>"
      ]
     },
     "metadata": {
      "needs_background": "light"
     },
     "output_type": "display_data"
    }
   ],
   "source": [
    "df[\"time\"].value_counts().plot(kind='bar')  "
   ]
  },
  {
   "cell_type": "code",
   "execution_count": 98,
   "id": "30440273",
   "metadata": {},
   "outputs": [],
   "source": [
    "#correlation btw target and features\n",
    "corr_methods= {'pearson', 'kendall', 'spearman'} "
   ]
  },
  {
   "cell_type": "code",
   "execution_count": 99,
   "id": "7296f7fb",
   "metadata": {},
   "outputs": [
    {
     "name": "stdout",
     "output_type": "stream",
     "text": [
      "pearson ------------------------------------------------------------------------------\n",
      "\n",
      "            total_bill       tip       sex    smoker       day      time  \\\n",
      "total_bill    1.000000  0.675734  0.144877  0.085721 -0.043550 -0.183118   \n",
      "tip           0.675734  1.000000  0.088862  0.005929 -0.011548 -0.121629   \n",
      "sex           0.144877  0.088862  1.000000  0.002816 -0.078292 -0.205231   \n",
      "smoker        0.085721  0.005929  0.002816  1.000000 -0.282721 -0.054921   \n",
      "day          -0.043550 -0.011548 -0.078292 -0.282721  1.000000  0.638019   \n",
      "time         -0.183118 -0.121629 -0.205231 -0.054921  0.638019  1.000000   \n",
      "size          0.598315  0.489299  0.086195 -0.133178  0.069510 -0.103411   \n",
      "\n",
      "                size  \n",
      "total_bill  0.598315  \n",
      "tip         0.489299  \n",
      "sex         0.086195  \n",
      "smoker     -0.133178  \n",
      "day         0.069510  \n",
      "time       -0.103411  \n",
      "size        1.000000  \n",
      "kendall ------------------------------------------------------------------------------\n",
      "\n",
      "            total_bill       tip       sex    smoker       day      time  \\\n",
      "total_bill    1.000000  0.517181  0.120889  0.050004 -0.034121 -0.170303   \n",
      "tip           0.517181  1.000000  0.046539  0.014119  0.001795 -0.116622   \n",
      "sex           0.120889  0.046539  1.000000  0.002816 -0.074350 -0.205231   \n",
      "smoker        0.050004  0.014119  0.002816  1.000000 -0.258767 -0.054921   \n",
      "day          -0.034121  0.001795 -0.074350 -0.258767  1.000000  0.601047   \n",
      "time         -0.170303 -0.116622 -0.205231 -0.054921  0.601047  1.000000   \n",
      "size          0.484342  0.378185  0.090987 -0.122854  0.022311 -0.156301   \n",
      "\n",
      "                size  \n",
      "total_bill  0.484342  \n",
      "tip         0.378185  \n",
      "sex         0.090987  \n",
      "smoker     -0.122854  \n",
      "day         0.022311  \n",
      "time       -0.156301  \n",
      "size        1.000000  \n",
      "spearman ------------------------------------------------------------------------------\n",
      "\n",
      "            total_bill       tip       sex    smoker       day      time  \\\n",
      "total_bill    1.000000  0.678968  0.147717  0.061101 -0.043150 -0.208096   \n",
      "tip           0.678968  1.000000  0.055982  0.016984  0.000714 -0.140286   \n",
      "sex           0.147717  0.055982  1.000000  0.002816 -0.080269 -0.205231   \n",
      "smoker        0.061101  0.016984  0.002816  1.000000 -0.279368 -0.054921   \n",
      "day          -0.043150  0.000714 -0.080269 -0.279368  1.000000  0.648896   \n",
      "time         -0.208096 -0.140286 -0.205231 -0.054921  0.648896  1.000000   \n",
      "size          0.604791  0.468268  0.096021 -0.129651  0.021710 -0.164948   \n",
      "\n",
      "                size  \n",
      "total_bill  0.604791  \n",
      "tip         0.468268  \n",
      "sex         0.096021  \n",
      "smoker     -0.129651  \n",
      "day         0.021710  \n",
      "time       -0.164948  \n",
      "size        1.000000  \n"
     ]
    }
   ],
   "source": [
    "for value in corr_methods:\n",
    "    print(value, \"------------------------------------------------------------------------------\\n\")\n",
    "    \n",
    "    print(df.corr(method=value))"
   ]
  },
  {
   "cell_type": "code",
   "execution_count": null,
   "id": "2a94dc4d",
   "metadata": {},
   "outputs": [],
   "source": [
    "#Correlation btw features columns"
   ]
  },
  {
   "cell_type": "code",
   "execution_count": 100,
   "id": "78523ed9",
   "metadata": {},
   "outputs": [],
   "source": [
    "\n",
    "corr = final_df.corr()\n",
    "\n",
    "#upper side = lower side"
   ]
  },
  {
   "cell_type": "code",
   "execution_count": 101,
   "id": "8e974ce9",
   "metadata": {},
   "outputs": [
    {
     "data": {
      "text/html": [
       "<div>\n",
       "<style scoped>\n",
       "    .dataframe tbody tr th:only-of-type {\n",
       "        vertical-align: middle;\n",
       "    }\n",
       "\n",
       "    .dataframe tbody tr th {\n",
       "        vertical-align: top;\n",
       "    }\n",
       "\n",
       "    .dataframe thead th {\n",
       "        text-align: right;\n",
       "    }\n",
       "</style>\n",
       "<table border=\"1\" class=\"dataframe\">\n",
       "  <thead>\n",
       "    <tr style=\"text-align: right;\">\n",
       "      <th></th>\n",
       "      <th>total_bill</th>\n",
       "      <th>tip</th>\n",
       "      <th>sex</th>\n",
       "      <th>smoker</th>\n",
       "      <th>day</th>\n",
       "      <th>time</th>\n",
       "      <th>size</th>\n",
       "      <th>Female</th>\n",
       "      <th>Male</th>\n",
       "      <th>No</th>\n",
       "      <th>Yes</th>\n",
       "      <th>Fri</th>\n",
       "      <th>Sat</th>\n",
       "      <th>Sun</th>\n",
       "      <th>Thur</th>\n",
       "      <th>Dinner</th>\n",
       "      <th>Lunch</th>\n",
       "    </tr>\n",
       "  </thead>\n",
       "  <tbody>\n",
       "    <tr>\n",
       "      <th>total_bill</th>\n",
       "      <td>1.000000</td>\n",
       "      <td>0.933350</td>\n",
       "      <td>0.728504</td>\n",
       "      <td>0.544936</td>\n",
       "      <td>0.758505</td>\n",
       "      <td>0.362458</td>\n",
       "      <td>0.928503</td>\n",
       "      <td>-0.123825</td>\n",
       "      <td>-0.171731</td>\n",
       "      <td>-0.167944</td>\n",
       "      <td>-0.128364</td>\n",
       "      <td>-0.056204</td>\n",
       "      <td>-0.123825</td>\n",
       "      <td>-0.115175</td>\n",
       "      <td>-0.103397</td>\n",
       "      <td>-0.183473</td>\n",
       "      <td>-0.108566</td>\n",
       "    </tr>\n",
       "    <tr>\n",
       "      <th>tip</th>\n",
       "      <td>0.933350</td>\n",
       "      <td>1.000000</td>\n",
       "      <td>0.709381</td>\n",
       "      <td>0.513015</td>\n",
       "      <td>0.761793</td>\n",
       "      <td>0.383347</td>\n",
       "      <td>0.907251</td>\n",
       "      <td>-0.123183</td>\n",
       "      <td>-0.170840</td>\n",
       "      <td>-0.167073</td>\n",
       "      <td>-0.127698</td>\n",
       "      <td>-0.055913</td>\n",
       "      <td>-0.123183</td>\n",
       "      <td>-0.114578</td>\n",
       "      <td>-0.102860</td>\n",
       "      <td>-0.182521</td>\n",
       "      <td>-0.108003</td>\n",
       "    </tr>\n",
       "    <tr>\n",
       "      <th>sex</th>\n",
       "      <td>0.728504</td>\n",
       "      <td>0.709381</td>\n",
       "      <td>1.000000</td>\n",
       "      <td>0.443068</td>\n",
       "      <td>0.635355</td>\n",
       "      <td>0.258738</td>\n",
       "      <td>0.731475</td>\n",
       "      <td>-0.106495</td>\n",
       "      <td>-0.147695</td>\n",
       "      <td>-0.144438</td>\n",
       "      <td>-0.110398</td>\n",
       "      <td>-0.048338</td>\n",
       "      <td>-0.106495</td>\n",
       "      <td>-0.099055</td>\n",
       "      <td>-0.088925</td>\n",
       "      <td>-0.157794</td>\n",
       "      <td>-0.093371</td>\n",
       "    </tr>\n",
       "    <tr>\n",
       "      <th>smoker</th>\n",
       "      <td>0.544936</td>\n",
       "      <td>0.513015</td>\n",
       "      <td>0.443068</td>\n",
       "      <td>1.000000</td>\n",
       "      <td>0.375891</td>\n",
       "      <td>0.239881</td>\n",
       "      <td>0.489420</td>\n",
       "      <td>-0.079602</td>\n",
       "      <td>-0.110398</td>\n",
       "      <td>-0.107964</td>\n",
       "      <td>-0.082520</td>\n",
       "      <td>-0.036131</td>\n",
       "      <td>-0.079602</td>\n",
       "      <td>-0.074041</td>\n",
       "      <td>-0.066469</td>\n",
       "      <td>-0.117947</td>\n",
       "      <td>-0.069792</td>\n",
       "    </tr>\n",
       "    <tr>\n",
       "      <th>day</th>\n",
       "      <td>0.758505</td>\n",
       "      <td>0.761793</td>\n",
       "      <td>0.635355</td>\n",
       "      <td>0.375891</td>\n",
       "      <td>1.000000</td>\n",
       "      <td>0.702497</td>\n",
       "      <td>0.808320</td>\n",
       "      <td>-0.119138</td>\n",
       "      <td>-0.165231</td>\n",
       "      <td>-0.161587</td>\n",
       "      <td>-0.123506</td>\n",
       "      <td>-0.054077</td>\n",
       "      <td>-0.119138</td>\n",
       "      <td>-0.110816</td>\n",
       "      <td>-0.099483</td>\n",
       "      <td>-0.176528</td>\n",
       "      <td>-0.104456</td>\n",
       "    </tr>\n",
       "    <tr>\n",
       "      <th>time</th>\n",
       "      <td>0.362458</td>\n",
       "      <td>0.383347</td>\n",
       "      <td>0.258738</td>\n",
       "      <td>0.239881</td>\n",
       "      <td>0.702497</td>\n",
       "      <td>1.000000</td>\n",
       "      <td>0.414625</td>\n",
       "      <td>-0.067324</td>\n",
       "      <td>-0.093371</td>\n",
       "      <td>-0.091312</td>\n",
       "      <td>-0.069792</td>\n",
       "      <td>-0.030559</td>\n",
       "      <td>-0.067324</td>\n",
       "      <td>-0.062621</td>\n",
       "      <td>-0.056217</td>\n",
       "      <td>-0.099755</td>\n",
       "      <td>-0.059028</td>\n",
       "    </tr>\n",
       "    <tr>\n",
       "      <th>size</th>\n",
       "      <td>0.928503</td>\n",
       "      <td>0.907251</td>\n",
       "      <td>0.731475</td>\n",
       "      <td>0.489420</td>\n",
       "      <td>0.808320</td>\n",
       "      <td>0.414625</td>\n",
       "      <td>1.000000</td>\n",
       "      <td>-0.128062</td>\n",
       "      <td>-0.177607</td>\n",
       "      <td>-0.173691</td>\n",
       "      <td>-0.132757</td>\n",
       "      <td>-0.058128</td>\n",
       "      <td>-0.128062</td>\n",
       "      <td>-0.119116</td>\n",
       "      <td>-0.106935</td>\n",
       "      <td>-0.189751</td>\n",
       "      <td>-0.112281</td>\n",
       "    </tr>\n",
       "    <tr>\n",
       "      <th>Female</th>\n",
       "      <td>-0.123825</td>\n",
       "      <td>-0.123183</td>\n",
       "      <td>-0.106495</td>\n",
       "      <td>-0.079602</td>\n",
       "      <td>-0.119138</td>\n",
       "      <td>-0.067324</td>\n",
       "      <td>-0.128062</td>\n",
       "      <td>1.000000</td>\n",
       "      <td>-0.106495</td>\n",
       "      <td>-0.104146</td>\n",
       "      <td>-0.079602</td>\n",
       "      <td>-0.034854</td>\n",
       "      <td>-0.076787</td>\n",
       "      <td>-0.071423</td>\n",
       "      <td>-0.064119</td>\n",
       "      <td>-0.113776</td>\n",
       "      <td>-0.067324</td>\n",
       "    </tr>\n",
       "    <tr>\n",
       "      <th>Male</th>\n",
       "      <td>-0.171731</td>\n",
       "      <td>-0.170840</td>\n",
       "      <td>-0.147695</td>\n",
       "      <td>-0.110398</td>\n",
       "      <td>-0.165231</td>\n",
       "      <td>-0.093371</td>\n",
       "      <td>-0.177607</td>\n",
       "      <td>-0.106495</td>\n",
       "      <td>1.000000</td>\n",
       "      <td>-0.144438</td>\n",
       "      <td>-0.110398</td>\n",
       "      <td>-0.048338</td>\n",
       "      <td>-0.106495</td>\n",
       "      <td>-0.099055</td>\n",
       "      <td>-0.088925</td>\n",
       "      <td>-0.157794</td>\n",
       "      <td>-0.093371</td>\n",
       "    </tr>\n",
       "    <tr>\n",
       "      <th>No</th>\n",
       "      <td>-0.167944</td>\n",
       "      <td>-0.167073</td>\n",
       "      <td>-0.144438</td>\n",
       "      <td>-0.107964</td>\n",
       "      <td>-0.161587</td>\n",
       "      <td>-0.091312</td>\n",
       "      <td>-0.173691</td>\n",
       "      <td>-0.104146</td>\n",
       "      <td>-0.144438</td>\n",
       "      <td>1.000000</td>\n",
       "      <td>-0.107964</td>\n",
       "      <td>-0.047272</td>\n",
       "      <td>-0.104146</td>\n",
       "      <td>-0.096871</td>\n",
       "      <td>-0.086964</td>\n",
       "      <td>-0.154314</td>\n",
       "      <td>-0.091312</td>\n",
       "    </tr>\n",
       "    <tr>\n",
       "      <th>Yes</th>\n",
       "      <td>-0.128364</td>\n",
       "      <td>-0.127698</td>\n",
       "      <td>-0.110398</td>\n",
       "      <td>-0.082520</td>\n",
       "      <td>-0.123506</td>\n",
       "      <td>-0.069792</td>\n",
       "      <td>-0.132757</td>\n",
       "      <td>-0.079602</td>\n",
       "      <td>-0.110398</td>\n",
       "      <td>-0.107964</td>\n",
       "      <td>1.000000</td>\n",
       "      <td>-0.036131</td>\n",
       "      <td>-0.079602</td>\n",
       "      <td>-0.074041</td>\n",
       "      <td>-0.066469</td>\n",
       "      <td>-0.117947</td>\n",
       "      <td>-0.069792</td>\n",
       "    </tr>\n",
       "    <tr>\n",
       "      <th>Fri</th>\n",
       "      <td>-0.056204</td>\n",
       "      <td>-0.055913</td>\n",
       "      <td>-0.048338</td>\n",
       "      <td>-0.036131</td>\n",
       "      <td>-0.054077</td>\n",
       "      <td>-0.030559</td>\n",
       "      <td>-0.058128</td>\n",
       "      <td>-0.034854</td>\n",
       "      <td>-0.048338</td>\n",
       "      <td>-0.047272</td>\n",
       "      <td>-0.036131</td>\n",
       "      <td>1.000000</td>\n",
       "      <td>-0.034854</td>\n",
       "      <td>-0.032419</td>\n",
       "      <td>-0.029104</td>\n",
       "      <td>-0.051643</td>\n",
       "      <td>-0.030559</td>\n",
       "    </tr>\n",
       "    <tr>\n",
       "      <th>Sat</th>\n",
       "      <td>-0.123825</td>\n",
       "      <td>-0.123183</td>\n",
       "      <td>-0.106495</td>\n",
       "      <td>-0.079602</td>\n",
       "      <td>-0.119138</td>\n",
       "      <td>-0.067324</td>\n",
       "      <td>-0.128062</td>\n",
       "      <td>-0.076787</td>\n",
       "      <td>-0.106495</td>\n",
       "      <td>-0.104146</td>\n",
       "      <td>-0.079602</td>\n",
       "      <td>-0.034854</td>\n",
       "      <td>1.000000</td>\n",
       "      <td>-0.071423</td>\n",
       "      <td>-0.064119</td>\n",
       "      <td>-0.113776</td>\n",
       "      <td>-0.067324</td>\n",
       "    </tr>\n",
       "    <tr>\n",
       "      <th>Sun</th>\n",
       "      <td>-0.115175</td>\n",
       "      <td>-0.114578</td>\n",
       "      <td>-0.099055</td>\n",
       "      <td>-0.074041</td>\n",
       "      <td>-0.110816</td>\n",
       "      <td>-0.062621</td>\n",
       "      <td>-0.119116</td>\n",
       "      <td>-0.071423</td>\n",
       "      <td>-0.099055</td>\n",
       "      <td>-0.096871</td>\n",
       "      <td>-0.074041</td>\n",
       "      <td>-0.032419</td>\n",
       "      <td>-0.071423</td>\n",
       "      <td>1.000000</td>\n",
       "      <td>-0.059640</td>\n",
       "      <td>-0.105828</td>\n",
       "      <td>-0.062621</td>\n",
       "    </tr>\n",
       "    <tr>\n",
       "      <th>Thur</th>\n",
       "      <td>-0.103397</td>\n",
       "      <td>-0.102860</td>\n",
       "      <td>-0.088925</td>\n",
       "      <td>-0.066469</td>\n",
       "      <td>-0.099483</td>\n",
       "      <td>-0.056217</td>\n",
       "      <td>-0.106935</td>\n",
       "      <td>-0.064119</td>\n",
       "      <td>-0.088925</td>\n",
       "      <td>-0.086964</td>\n",
       "      <td>-0.066469</td>\n",
       "      <td>-0.029104</td>\n",
       "      <td>-0.064119</td>\n",
       "      <td>-0.059640</td>\n",
       "      <td>1.000000</td>\n",
       "      <td>-0.095005</td>\n",
       "      <td>-0.056217</td>\n",
       "    </tr>\n",
       "    <tr>\n",
       "      <th>Dinner</th>\n",
       "      <td>-0.183473</td>\n",
       "      <td>-0.182521</td>\n",
       "      <td>-0.157794</td>\n",
       "      <td>-0.117947</td>\n",
       "      <td>-0.176528</td>\n",
       "      <td>-0.099755</td>\n",
       "      <td>-0.189751</td>\n",
       "      <td>-0.113776</td>\n",
       "      <td>-0.157794</td>\n",
       "      <td>-0.154314</td>\n",
       "      <td>-0.117947</td>\n",
       "      <td>-0.051643</td>\n",
       "      <td>-0.113776</td>\n",
       "      <td>-0.105828</td>\n",
       "      <td>-0.095005</td>\n",
       "      <td>1.000000</td>\n",
       "      <td>-0.099755</td>\n",
       "    </tr>\n",
       "    <tr>\n",
       "      <th>Lunch</th>\n",
       "      <td>-0.108566</td>\n",
       "      <td>-0.108003</td>\n",
       "      <td>-0.093371</td>\n",
       "      <td>-0.069792</td>\n",
       "      <td>-0.104456</td>\n",
       "      <td>-0.059028</td>\n",
       "      <td>-0.112281</td>\n",
       "      <td>-0.067324</td>\n",
       "      <td>-0.093371</td>\n",
       "      <td>-0.091312</td>\n",
       "      <td>-0.069792</td>\n",
       "      <td>-0.030559</td>\n",
       "      <td>-0.067324</td>\n",
       "      <td>-0.062621</td>\n",
       "      <td>-0.056217</td>\n",
       "      <td>-0.099755</td>\n",
       "      <td>1.000000</td>\n",
       "    </tr>\n",
       "  </tbody>\n",
       "</table>\n",
       "</div>"
      ],
      "text/plain": [
       "            total_bill       tip       sex    smoker       day      time  \\\n",
       "total_bill    1.000000  0.933350  0.728504  0.544936  0.758505  0.362458   \n",
       "tip           0.933350  1.000000  0.709381  0.513015  0.761793  0.383347   \n",
       "sex           0.728504  0.709381  1.000000  0.443068  0.635355  0.258738   \n",
       "smoker        0.544936  0.513015  0.443068  1.000000  0.375891  0.239881   \n",
       "day           0.758505  0.761793  0.635355  0.375891  1.000000  0.702497   \n",
       "time          0.362458  0.383347  0.258738  0.239881  0.702497  1.000000   \n",
       "size          0.928503  0.907251  0.731475  0.489420  0.808320  0.414625   \n",
       "Female       -0.123825 -0.123183 -0.106495 -0.079602 -0.119138 -0.067324   \n",
       "Male         -0.171731 -0.170840 -0.147695 -0.110398 -0.165231 -0.093371   \n",
       "No           -0.167944 -0.167073 -0.144438 -0.107964 -0.161587 -0.091312   \n",
       "Yes          -0.128364 -0.127698 -0.110398 -0.082520 -0.123506 -0.069792   \n",
       "Fri          -0.056204 -0.055913 -0.048338 -0.036131 -0.054077 -0.030559   \n",
       "Sat          -0.123825 -0.123183 -0.106495 -0.079602 -0.119138 -0.067324   \n",
       "Sun          -0.115175 -0.114578 -0.099055 -0.074041 -0.110816 -0.062621   \n",
       "Thur         -0.103397 -0.102860 -0.088925 -0.066469 -0.099483 -0.056217   \n",
       "Dinner       -0.183473 -0.182521 -0.157794 -0.117947 -0.176528 -0.099755   \n",
       "Lunch        -0.108566 -0.108003 -0.093371 -0.069792 -0.104456 -0.059028   \n",
       "\n",
       "                size    Female      Male        No       Yes       Fri  \\\n",
       "total_bill  0.928503 -0.123825 -0.171731 -0.167944 -0.128364 -0.056204   \n",
       "tip         0.907251 -0.123183 -0.170840 -0.167073 -0.127698 -0.055913   \n",
       "sex         0.731475 -0.106495 -0.147695 -0.144438 -0.110398 -0.048338   \n",
       "smoker      0.489420 -0.079602 -0.110398 -0.107964 -0.082520 -0.036131   \n",
       "day         0.808320 -0.119138 -0.165231 -0.161587 -0.123506 -0.054077   \n",
       "time        0.414625 -0.067324 -0.093371 -0.091312 -0.069792 -0.030559   \n",
       "size        1.000000 -0.128062 -0.177607 -0.173691 -0.132757 -0.058128   \n",
       "Female     -0.128062  1.000000 -0.106495 -0.104146 -0.079602 -0.034854   \n",
       "Male       -0.177607 -0.106495  1.000000 -0.144438 -0.110398 -0.048338   \n",
       "No         -0.173691 -0.104146 -0.144438  1.000000 -0.107964 -0.047272   \n",
       "Yes        -0.132757 -0.079602 -0.110398 -0.107964  1.000000 -0.036131   \n",
       "Fri        -0.058128 -0.034854 -0.048338 -0.047272 -0.036131  1.000000   \n",
       "Sat        -0.128062 -0.076787 -0.106495 -0.104146 -0.079602 -0.034854   \n",
       "Sun        -0.119116 -0.071423 -0.099055 -0.096871 -0.074041 -0.032419   \n",
       "Thur       -0.106935 -0.064119 -0.088925 -0.086964 -0.066469 -0.029104   \n",
       "Dinner     -0.189751 -0.113776 -0.157794 -0.154314 -0.117947 -0.051643   \n",
       "Lunch      -0.112281 -0.067324 -0.093371 -0.091312 -0.069792 -0.030559   \n",
       "\n",
       "                 Sat       Sun      Thur    Dinner     Lunch  \n",
       "total_bill -0.123825 -0.115175 -0.103397 -0.183473 -0.108566  \n",
       "tip        -0.123183 -0.114578 -0.102860 -0.182521 -0.108003  \n",
       "sex        -0.106495 -0.099055 -0.088925 -0.157794 -0.093371  \n",
       "smoker     -0.079602 -0.074041 -0.066469 -0.117947 -0.069792  \n",
       "day        -0.119138 -0.110816 -0.099483 -0.176528 -0.104456  \n",
       "time       -0.067324 -0.062621 -0.056217 -0.099755 -0.059028  \n",
       "size       -0.128062 -0.119116 -0.106935 -0.189751 -0.112281  \n",
       "Female     -0.076787 -0.071423 -0.064119 -0.113776 -0.067324  \n",
       "Male       -0.106495 -0.099055 -0.088925 -0.157794 -0.093371  \n",
       "No         -0.104146 -0.096871 -0.086964 -0.154314 -0.091312  \n",
       "Yes        -0.079602 -0.074041 -0.066469 -0.117947 -0.069792  \n",
       "Fri        -0.034854 -0.032419 -0.029104 -0.051643 -0.030559  \n",
       "Sat         1.000000 -0.071423 -0.064119 -0.113776 -0.067324  \n",
       "Sun        -0.071423  1.000000 -0.059640 -0.105828 -0.062621  \n",
       "Thur       -0.064119 -0.059640  1.000000 -0.095005 -0.056217  \n",
       "Dinner     -0.113776 -0.105828 -0.095005  1.000000 -0.099755  \n",
       "Lunch      -0.067324 -0.062621 -0.056217 -0.099755  1.000000  "
      ]
     },
     "execution_count": 101,
     "metadata": {},
     "output_type": "execute_result"
    }
   ],
   "source": [
    "corr"
   ]
  },
  {
   "cell_type": "code",
   "execution_count": 102,
   "id": "2710b5aa",
   "metadata": {},
   "outputs": [
    {
     "data": {
      "text/plain": [
       "<AxesSubplot:>"
      ]
     },
     "execution_count": 102,
     "metadata": {},
     "output_type": "execute_result"
    },
    {
     "data": {
      "image/png": "[encoded data removed]",
      "text/plain": [
       "<Figure size 1152x576 with 2 Axes>"
      ]
     },
     "metadata": {},
     "output_type": "display_data"
    }
   ],
   "source": [
    "#HeatMap\n",
    "sns.set(rc = {'figure.figsize':(16,8)})\n",
    "sns.heatmap(corr, annot = True, fmt='.2g',cmap= 'coolwarm')"
   ]
  },
  {
   "cell_type": "code",
   "execution_count": null,
   "id": "5c01aaf9",
   "metadata": {},
   "outputs": [],
   "source": []
  },
  {
   "cell_type": "code",
   "execution_count": 106,
   "id": "53803ab9",
   "metadata": {},
   "outputs": [
    {
     "data": {
      "image/png": "[encoded data removed]",
      "text/plain": [
       "<Figure size 360x360 with 1 Axes>"
      ]
     },
     "metadata": {},
     "output_type": "display_data"
    },
    {
     "data": {
      "image/png": "[encoded data removed]",
      "text/plain": [
       "<Figure size 360x360 with 1 Axes>"
      ]
     },
     "metadata": {},
     "output_type": "display_data"
    },
    {
     "data": {
      "image/png": "[encoded data removed]",
      "text/plain": [
       "<Figure size 360x360 with 1 Axes>"
      ]
     },
     "metadata": {},
     "output_type": "display_data"
    }
   ],
   "source": [
    "for value in cols:\n",
    "    sns.lmplot(x=value, y='tip', data=df)"
   ]
  },
  {
   "cell_type": "code",
   "execution_count": 107,
   "id": "0ab38fea",
   "metadata": {},
   "outputs": [
    {
     "data": {
      "text/html": [
       "<div>\n",
       "<style scoped>\n",
       "    .dataframe tbody tr th:only-of-type {\n",
       "        vertical-align: middle;\n",
       "    }\n",
       "\n",
       "    .dataframe tbody tr th {\n",
       "        vertical-align: top;\n",
       "    }\n",
       "\n",
       "    .dataframe thead th {\n",
       "        text-align: right;\n",
       "    }\n",
       "</style>\n",
       "<table border=\"1\" class=\"dataframe\">\n",
       "  <thead>\n",
       "    <tr style=\"text-align: right;\">\n",
       "      <th></th>\n",
       "      <th>total_bill</th>\n",
       "      <th>tip</th>\n",
       "      <th>sex</th>\n",
       "      <th>smoker</th>\n",
       "      <th>day</th>\n",
       "      <th>time</th>\n",
       "      <th>size</th>\n",
       "      <th>Female</th>\n",
       "      <th>Male</th>\n",
       "      <th>No</th>\n",
       "      <th>Yes</th>\n",
       "      <th>Fri</th>\n",
       "      <th>Sat</th>\n",
       "      <th>Sun</th>\n",
       "      <th>Thur</th>\n",
       "      <th>Dinner</th>\n",
       "      <th>Lunch</th>\n",
       "    </tr>\n",
       "  </thead>\n",
       "  <tbody>\n",
       "    <tr>\n",
       "      <th>0</th>\n",
       "      <td>16.99</td>\n",
       "      <td>1.01</td>\n",
       "      <td>0.0</td>\n",
       "      <td>0.0</td>\n",
       "      <td>2.0</td>\n",
       "      <td>0.0</td>\n",
       "      <td>2.0</td>\n",
       "      <td>0.0</td>\n",
       "      <td>0.0</td>\n",
       "      <td>0.0</td>\n",
       "      <td>0.0</td>\n",
       "      <td>0.0</td>\n",
       "      <td>0.0</td>\n",
       "      <td>0.0</td>\n",
       "      <td>0.0</td>\n",
       "      <td>0.0</td>\n",
       "      <td>0.0</td>\n",
       "    </tr>\n",
       "    <tr>\n",
       "      <th>1</th>\n",
       "      <td>10.34</td>\n",
       "      <td>1.66</td>\n",
       "      <td>1.0</td>\n",
       "      <td>0.0</td>\n",
       "      <td>2.0</td>\n",
       "      <td>0.0</td>\n",
       "      <td>3.0</td>\n",
       "      <td>0.0</td>\n",
       "      <td>0.0</td>\n",
       "      <td>0.0</td>\n",
       "      <td>0.0</td>\n",
       "      <td>0.0</td>\n",
       "      <td>0.0</td>\n",
       "      <td>0.0</td>\n",
       "      <td>0.0</td>\n",
       "      <td>0.0</td>\n",
       "      <td>0.0</td>\n",
       "    </tr>\n",
       "    <tr>\n",
       "      <th>2</th>\n",
       "      <td>21.01</td>\n",
       "      <td>3.50</td>\n",
       "      <td>1.0</td>\n",
       "      <td>0.0</td>\n",
       "      <td>2.0</td>\n",
       "      <td>0.0</td>\n",
       "      <td>3.0</td>\n",
       "      <td>0.0</td>\n",
       "      <td>0.0</td>\n",
       "      <td>0.0</td>\n",
       "      <td>0.0</td>\n",
       "      <td>0.0</td>\n",
       "      <td>0.0</td>\n",
       "      <td>0.0</td>\n",
       "      <td>0.0</td>\n",
       "      <td>0.0</td>\n",
       "      <td>0.0</td>\n",
       "    </tr>\n",
       "    <tr>\n",
       "      <th>3</th>\n",
       "      <td>23.68</td>\n",
       "      <td>3.31</td>\n",
       "      <td>1.0</td>\n",
       "      <td>0.0</td>\n",
       "      <td>2.0</td>\n",
       "      <td>0.0</td>\n",
       "      <td>2.0</td>\n",
       "      <td>0.0</td>\n",
       "      <td>0.0</td>\n",
       "      <td>0.0</td>\n",
       "      <td>0.0</td>\n",
       "      <td>0.0</td>\n",
       "      <td>0.0</td>\n",
       "      <td>0.0</td>\n",
       "      <td>0.0</td>\n",
       "      <td>0.0</td>\n",
       "      <td>0.0</td>\n",
       "    </tr>\n",
       "    <tr>\n",
       "      <th>4</th>\n",
       "      <td>24.59</td>\n",
       "      <td>3.61</td>\n",
       "      <td>0.0</td>\n",
       "      <td>0.0</td>\n",
       "      <td>2.0</td>\n",
       "      <td>0.0</td>\n",
       "      <td>4.0</td>\n",
       "      <td>0.0</td>\n",
       "      <td>0.0</td>\n",
       "      <td>0.0</td>\n",
       "      <td>0.0</td>\n",
       "      <td>0.0</td>\n",
       "      <td>0.0</td>\n",
       "      <td>0.0</td>\n",
       "      <td>0.0</td>\n",
       "      <td>0.0</td>\n",
       "      <td>0.0</td>\n",
       "    </tr>\n",
       "    <tr>\n",
       "      <th>...</th>\n",
       "      <td>...</td>\n",
       "      <td>...</td>\n",
       "      <td>...</td>\n",
       "      <td>...</td>\n",
       "      <td>...</td>\n",
       "      <td>...</td>\n",
       "      <td>...</td>\n",
       "      <td>...</td>\n",
       "      <td>...</td>\n",
       "      <td>...</td>\n",
       "      <td>...</td>\n",
       "      <td>...</td>\n",
       "      <td>...</td>\n",
       "      <td>...</td>\n",
       "      <td>...</td>\n",
       "      <td>...</td>\n",
       "      <td>...</td>\n",
       "    </tr>\n",
       "    <tr>\n",
       "      <th>239</th>\n",
       "      <td>0.00</td>\n",
       "      <td>0.00</td>\n",
       "      <td>0.0</td>\n",
       "      <td>0.0</td>\n",
       "      <td>0.0</td>\n",
       "      <td>0.0</td>\n",
       "      <td>0.0</td>\n",
       "      <td>0.0</td>\n",
       "      <td>0.0</td>\n",
       "      <td>0.0</td>\n",
       "      <td>0.0</td>\n",
       "      <td>0.0</td>\n",
       "      <td>0.0</td>\n",
       "      <td>0.0</td>\n",
       "      <td>0.0</td>\n",
       "      <td>1.0</td>\n",
       "      <td>0.0</td>\n",
       "    </tr>\n",
       "    <tr>\n",
       "      <th>240</th>\n",
       "      <td>0.00</td>\n",
       "      <td>0.00</td>\n",
       "      <td>0.0</td>\n",
       "      <td>0.0</td>\n",
       "      <td>0.0</td>\n",
       "      <td>0.0</td>\n",
       "      <td>0.0</td>\n",
       "      <td>0.0</td>\n",
       "      <td>0.0</td>\n",
       "      <td>0.0</td>\n",
       "      <td>0.0</td>\n",
       "      <td>0.0</td>\n",
       "      <td>0.0</td>\n",
       "      <td>0.0</td>\n",
       "      <td>0.0</td>\n",
       "      <td>1.0</td>\n",
       "      <td>0.0</td>\n",
       "    </tr>\n",
       "    <tr>\n",
       "      <th>241</th>\n",
       "      <td>0.00</td>\n",
       "      <td>0.00</td>\n",
       "      <td>0.0</td>\n",
       "      <td>0.0</td>\n",
       "      <td>0.0</td>\n",
       "      <td>0.0</td>\n",
       "      <td>0.0</td>\n",
       "      <td>0.0</td>\n",
       "      <td>0.0</td>\n",
       "      <td>0.0</td>\n",
       "      <td>0.0</td>\n",
       "      <td>0.0</td>\n",
       "      <td>0.0</td>\n",
       "      <td>0.0</td>\n",
       "      <td>0.0</td>\n",
       "      <td>1.0</td>\n",
       "      <td>0.0</td>\n",
       "    </tr>\n",
       "    <tr>\n",
       "      <th>242</th>\n",
       "      <td>0.00</td>\n",
       "      <td>0.00</td>\n",
       "      <td>0.0</td>\n",
       "      <td>0.0</td>\n",
       "      <td>0.0</td>\n",
       "      <td>0.0</td>\n",
       "      <td>0.0</td>\n",
       "      <td>0.0</td>\n",
       "      <td>0.0</td>\n",
       "      <td>0.0</td>\n",
       "      <td>0.0</td>\n",
       "      <td>0.0</td>\n",
       "      <td>0.0</td>\n",
       "      <td>0.0</td>\n",
       "      <td>0.0</td>\n",
       "      <td>1.0</td>\n",
       "      <td>0.0</td>\n",
       "    </tr>\n",
       "    <tr>\n",
       "      <th>243</th>\n",
       "      <td>0.00</td>\n",
       "      <td>0.00</td>\n",
       "      <td>0.0</td>\n",
       "      <td>0.0</td>\n",
       "      <td>0.0</td>\n",
       "      <td>0.0</td>\n",
       "      <td>0.0</td>\n",
       "      <td>0.0</td>\n",
       "      <td>0.0</td>\n",
       "      <td>0.0</td>\n",
       "      <td>0.0</td>\n",
       "      <td>0.0</td>\n",
       "      <td>0.0</td>\n",
       "      <td>0.0</td>\n",
       "      <td>0.0</td>\n",
       "      <td>1.0</td>\n",
       "      <td>0.0</td>\n",
       "    </tr>\n",
       "  </tbody>\n",
       "</table>\n",
       "<p>1220 rows × 17 columns</p>\n",
       "</div>"
      ],
      "text/plain": [
       "     total_bill   tip  sex  smoker  day  time  size  Female  Male   No  Yes  \\\n",
       "0         16.99  1.01  0.0     0.0  2.0   0.0   2.0     0.0   0.0  0.0  0.0   \n",
       "1         10.34  1.66  1.0     0.0  2.0   0.0   3.0     0.0   0.0  0.0  0.0   \n",
       "2         21.01  3.50  1.0     0.0  2.0   0.0   3.0     0.0   0.0  0.0  0.0   \n",
       "3         23.68  3.31  1.0     0.0  2.0   0.0   2.0     0.0   0.0  0.0  0.0   \n",
       "4         24.59  3.61  0.0     0.0  2.0   0.0   4.0     0.0   0.0  0.0  0.0   \n",
       "..          ...   ...  ...     ...  ...   ...   ...     ...   ...  ...  ...   \n",
       "239        0.00  0.00  0.0     0.0  0.0   0.0   0.0     0.0   0.0  0.0  0.0   \n",
       "240        0.00  0.00  0.0     0.0  0.0   0.0   0.0     0.0   0.0  0.0  0.0   \n",
       "241        0.00  0.00  0.0     0.0  0.0   0.0   0.0     0.0   0.0  0.0  0.0   \n",
       "242        0.00  0.00  0.0     0.0  0.0   0.0   0.0     0.0   0.0  0.0  0.0   \n",
       "243        0.00  0.00  0.0     0.0  0.0   0.0   0.0     0.0   0.0  0.0  0.0   \n",
       "\n",
       "     Fri  Sat  Sun  Thur  Dinner  Lunch  \n",
       "0    0.0  0.0  0.0   0.0     0.0    0.0  \n",
       "1    0.0  0.0  0.0   0.0     0.0    0.0  \n",
       "2    0.0  0.0  0.0   0.0     0.0    0.0  \n",
       "3    0.0  0.0  0.0   0.0     0.0    0.0  \n",
       "4    0.0  0.0  0.0   0.0     0.0    0.0  \n",
       "..   ...  ...  ...   ...     ...    ...  \n",
       "239  0.0  0.0  0.0   0.0     1.0    0.0  \n",
       "240  0.0  0.0  0.0   0.0     1.0    0.0  \n",
       "241  0.0  0.0  0.0   0.0     1.0    0.0  \n",
       "242  0.0  0.0  0.0   0.0     1.0    0.0  \n",
       "243  0.0  0.0  0.0   0.0     1.0    0.0  \n",
       "\n",
       "[1220 rows x 17 columns]"
      ]
     },
     "execution_count": 107,
     "metadata": {},
     "output_type": "execute_result"
    }
   ],
   "source": [
    "final_df"
   ]
  },
  {
   "cell_type": "code",
   "execution_count": 108,
   "id": "c579b39e",
   "metadata": {},
   "outputs": [],
   "source": [
    "#Testing and fitting "
   ]
  },
  {
   "cell_type": "code",
   "execution_count": 109,
   "id": "cd323cc8",
   "metadata": {},
   "outputs": [],
   "source": [
    "from sklearn.model_selection import train_test_split\n"
   ]
  },
  {
   "cell_type": "code",
   "execution_count": 110,
   "id": "8edc1c8d",
   "metadata": {},
   "outputs": [],
   "source": [
    "X = df.drop(['tip'], axis=1)\n",
    "y = df['tip']\n",
    "#Here, we are splitting "
   ]
  },
  {
   "cell_type": "code",
   "execution_count": 111,
   "id": "89e9c927",
   "metadata": {},
   "outputs": [
    {
     "data": {
      "text/plain": [
       "(     total_bill  sex  smoker  day  time  size\n",
       " 0         16.99    0       0    2     0     2\n",
       " 1         10.34    1       0    2     0     3\n",
       " 2         21.01    1       0    2     0     3\n",
       " 3         23.68    1       0    2     0     2\n",
       " 4         24.59    0       0    2     0     4\n",
       " ..          ...  ...     ...  ...   ...   ...\n",
       " 239       29.03    1       0    1     0     3\n",
       " 240       27.18    0       1    1     0     2\n",
       " 241       22.67    1       1    1     0     2\n",
       " 242       17.82    1       0    1     0     2\n",
       " 243       18.78    0       0    3     0     2\n",
       " \n",
       " [244 rows x 6 columns],\n",
       " 0      1.01\n",
       " 1      1.66\n",
       " 2      3.50\n",
       " 3      3.31\n",
       " 4      3.61\n",
       "        ... \n",
       " 239    5.92\n",
       " 240    2.00\n",
       " 241    2.00\n",
       " 242    1.75\n",
       " 243    3.00\n",
       " Name: tip, Length: 244, dtype: float64)"
      ]
     },
     "execution_count": 111,
     "metadata": {},
     "output_type": "execute_result"
    }
   ],
   "source": [
    "X, y\n"
   ]
  },
  {
   "cell_type": "code",
   "execution_count": 112,
   "id": "b1fe9d25",
   "metadata": {},
   "outputs": [],
   "source": [
    "import numpy as np\n",
    "from sklearn.model_selection import train_test_split\n",
    "X_train, X_test, y_train, y_test = train_test_split(\n",
    "    X, y, test_size=0.30, random_state=42)\n",
    "\n",
    "# 70/30 "
   ]
  },
  {
   "cell_type": "code",
   "execution_count": 113,
   "id": "5a53700a",
   "metadata": {},
   "outputs": [
    {
     "data": {
      "text/plain": [
       "(     total_bill  sex  smoker  day  time  size\n",
       " 234       15.53    1       1    1     0     2\n",
       " 227       20.45    1       0    1     0     4\n",
       " 180       34.65    1       1    2     0     4\n",
       " 5         25.29    1       0    2     0     4\n",
       " 56        38.01    1       1    1     0     4\n",
       " ..          ...  ...     ...  ...   ...   ...\n",
       " 106       20.49    1       1    1     0     2\n",
       " 14        14.83    0       0    2     0     2\n",
       " 92         5.75    0       1    0     0     2\n",
       " 179       34.63    1       1    2     0     2\n",
       " 102       44.30    0       1    1     0     3\n",
       " \n",
       " [170 rows x 6 columns],\n",
       "      total_bill  sex  smoker  day  time  size\n",
       " 24        19.82    1       0    1     0     2\n",
       " 6          8.77    1       0    2     0     2\n",
       " 153       24.55    1       0    2     0     4\n",
       " 211       25.89    1       1    1     0     4\n",
       " 198       13.00    0       1    3     1     2\n",
       " ..          ...  ...     ...  ...   ...   ...\n",
       " 165       24.52    1       0    2     0     3\n",
       " 154       19.77    1       0    2     0     4\n",
       " 216       28.15    1       1    1     0     5\n",
       " 79        17.29    1       0    3     1     2\n",
       " 29        19.65    0       0    1     0     2\n",
       " \n",
       " [74 rows x 6 columns],\n",
       " 234    3.00\n",
       " 227    3.00\n",
       " 180    3.68\n",
       " 5      4.71\n",
       " 56     3.00\n",
       "        ... \n",
       " 106    4.06\n",
       " 14     3.02\n",
       " 92     1.00\n",
       " 179    3.55\n",
       " 102    2.50\n",
       " Name: tip, Length: 170, dtype: float64,\n",
       " 24     3.18\n",
       " 6      2.00\n",
       " 153    2.00\n",
       " 211    5.16\n",
       " 198    2.00\n",
       "        ... \n",
       " 165    3.48\n",
       " 154    2.00\n",
       " 216    3.00\n",
       " 79     2.71\n",
       " 29     3.00\n",
       " Name: tip, Length: 74, dtype: float64)"
      ]
     },
     "execution_count": 113,
     "metadata": {},
     "output_type": "execute_result"
    }
   ],
   "source": [
    "X_train, X_test, y_train, y_test "
   ]
  },
  {
   "cell_type": "code",
   "execution_count": 114,
   "id": "41c32a27",
   "metadata": {},
   "outputs": [
    {
     "data": {
      "text/plain": [
       "24     3.18\n",
       "6      2.00\n",
       "153    2.00\n",
       "211    5.16\n",
       "198    2.00\n",
       "       ... \n",
       "165    3.48\n",
       "154    2.00\n",
       "216    3.00\n",
       "79     2.71\n",
       "29     3.00\n",
       "Name: tip, Length: 74, dtype: float64"
      ]
     },
     "execution_count": 114,
     "metadata": {},
     "output_type": "execute_result"
    }
   ],
   "source": [
    "y_test"
   ]
  },
  {
   "cell_type": "code",
   "execution_count": 115,
   "id": "381266f1",
   "metadata": {},
   "outputs": [
    {
     "name": "stdout",
     "output_type": "stream",
     "text": [
      "(170, 6) (74, 6)\n",
      "(170,) (74,)\n"
     ]
    }
   ],
   "source": [
    "print(X_train.shape, X_test.shape )  # ---> Training Dataset ->Features\n",
    "\n",
    "print(y_train.shape, y_test.shape )  # ---> Testing Dataset  ->Target"
   ]
  },
  {
   "cell_type": "code",
   "execution_count": 116,
   "id": "b18cff13",
   "metadata": {},
   "outputs": [
    {
     "data": {
      "text/plain": [
       "(244, 73.2, 69.67213114754098)"
      ]
     },
     "execution_count": 116,
     "metadata": {},
     "output_type": "execute_result"
    }
   ],
   "source": [
    "170+74,244*0.30,170/244*100"
   ]
  },
  {
   "cell_type": "code",
   "execution_count": 117,
   "id": "162eaa75",
   "metadata": {},
   "outputs": [],
   "source": [
    "from sklearn.linear_model import LinearRegression\n",
    "reg = LinearRegression()"
   ]
  },
  {
   "cell_type": "code",
   "execution_count": 118,
   "id": "64945d7e",
   "metadata": {},
   "outputs": [],
   "source": [
    "#put for training\n",
    "reg_train = reg.fit(X_train, y_train)"
   ]
  },
  {
   "cell_type": "code",
   "execution_count": 119,
   "id": "9c78c937",
   "metadata": {},
   "outputs": [
    {
     "data": {
      "text/plain": [
       "LinearRegression()"
      ]
     },
     "execution_count": 119,
     "metadata": {},
     "output_type": "execute_result"
    }
   ],
   "source": [
    "reg_train"
   ]
  },
  {
   "cell_type": "code",
   "execution_count": 120,
   "id": "7a7198f3",
   "metadata": {},
   "outputs": [],
   "source": [
    "#prediction, whether \n",
    "prediction = reg_train.predict(X_test)"
   ]
  },
  {
   "cell_type": "code",
   "execution_count": 121,
   "id": "75c4c6c8",
   "metadata": {},
   "outputs": [
    {
     "data": {
      "text/plain": [
       "(array([3.02176828, 1.87633238, 3.94167778, 3.84975127, 2.0504171 ,\n",
       "        2.45261736, 3.6084352 , 2.30245754, 2.455197  , 2.302245  ,\n",
       "        2.79326935, 2.15010026, 2.12619759, 2.1241767 , 1.79760149,\n",
       "        3.16850198, 2.94400398, 3.11015198, 2.62629526, 5.95679789,\n",
       "        3.58014354, 3.37444361, 2.11805185, 2.03259363, 2.94437851,\n",
       "        2.29725221, 2.02080774, 3.17464834, 3.1653635 , 6.76214774,\n",
       "        4.97115009, 1.5561348 , 3.37363588, 2.764912  , 2.86797829,\n",
       "        3.96519826, 2.0504684 , 5.4959838 , 2.36795303, 2.99414624,\n",
       "        2.12505786, 2.49894403, 3.33842305, 2.22843402, 1.86509916,\n",
       "        0.76271751, 1.75975295, 3.18566247, 1.89946338, 2.3918557 ,\n",
       "        3.14825329, 3.51930125, 4.63130685, 2.71045175, 2.90884964,\n",
       "        2.42631687, 1.42780546, 2.82913446, 2.96679523, 2.59458652,\n",
       "        4.65400466, 2.62799374, 2.97658134, 2.60877557, 3.06125821,\n",
       "        3.05683184, 2.25635872, 1.46744741, 3.64444082, 3.66605598,\n",
       "        3.48128296, 4.34015978, 2.8366269 , 2.93450937]),\n",
       " 24     3.18\n",
       " 6      2.00\n",
       " 153    2.00\n",
       " 211    5.16\n",
       " 198    2.00\n",
       "        ... \n",
       " 165    3.48\n",
       " 154    2.00\n",
       " 216    3.00\n",
       " 79     2.71\n",
       " 29     3.00\n",
       " Name: tip, Length: 74, dtype: float64)"
      ]
     },
     "execution_count": 121,
     "metadata": {},
     "output_type": "execute_result"
    }
   ],
   "source": [
    "#this part is prediction   #this part is prediction   \n",
    "prediction  ,     y_test "
   ]
  },
  {
   "cell_type": "code",
   "execution_count": 122,
   "id": "fb032ff7",
   "metadata": {},
   "outputs": [
    {
     "data": {
      "text/plain": [
       "0.9344080935297541"
      ]
     },
     "execution_count": 122,
     "metadata": {},
     "output_type": "execute_result"
    }
   ],
   "source": [
    "#Checking for accuracy\n",
    "from sklearn.metrics import mean_squared_error\n",
    "mean_squared_error(y_test, prediction)\n",
    "\n",
    "#we are getting good prediction but lets go for R2_score"
   ]
  },
  {
   "cell_type": "code",
   "execution_count": 123,
   "id": "372163c7",
   "metadata": {},
   "outputs": [
    {
     "data": {
      "text/plain": [
       "0.2911426514546799"
      ]
     },
     "execution_count": 123,
     "metadata": {},
     "output_type": "execute_result"
    }
   ],
   "source": [
    "from sklearn.metrics import r2_score\n",
    "r2_score(y_test, prediction)\n",
    "#Here we are not getting so let it be , our model is still giving us good prediction as above"
   ]
  },
  {
   "cell_type": "code",
   "execution_count": 124,
   "id": "a15a8746",
   "metadata": {},
   "outputs": [],
   "source": [
    "#scaling\n"
   ]
  },
  {
   "cell_type": "code",
   "execution_count": 125,
   "id": "e9139b78",
   "metadata": {},
   "outputs": [
    {
     "data": {
      "text/html": [
       "<div>\n",
       "<style scoped>\n",
       "    .dataframe tbody tr th:only-of-type {\n",
       "        vertical-align: middle;\n",
       "    }\n",
       "\n",
       "    .dataframe tbody tr th {\n",
       "        vertical-align: top;\n",
       "    }\n",
       "\n",
       "    .dataframe thead th {\n",
       "        text-align: right;\n",
       "    }\n",
       "</style>\n",
       "<table border=\"1\" class=\"dataframe\">\n",
       "  <thead>\n",
       "    <tr style=\"text-align: right;\">\n",
       "      <th></th>\n",
       "      <th>total_bill</th>\n",
       "      <th>sex</th>\n",
       "      <th>smoker</th>\n",
       "      <th>day</th>\n",
       "      <th>time</th>\n",
       "      <th>size</th>\n",
       "    </tr>\n",
       "  </thead>\n",
       "  <tbody>\n",
       "    <tr>\n",
       "      <th>139</th>\n",
       "      <td>13.16</td>\n",
       "      <td>0</td>\n",
       "      <td>0</td>\n",
       "      <td>3</td>\n",
       "      <td>1</td>\n",
       "      <td>2</td>\n",
       "    </tr>\n",
       "    <tr>\n",
       "      <th>241</th>\n",
       "      <td>22.67</td>\n",
       "      <td>1</td>\n",
       "      <td>1</td>\n",
       "      <td>1</td>\n",
       "      <td>0</td>\n",
       "      <td>2</td>\n",
       "    </tr>\n",
       "    <tr>\n",
       "      <th>75</th>\n",
       "      <td>10.51</td>\n",
       "      <td>1</td>\n",
       "      <td>0</td>\n",
       "      <td>1</td>\n",
       "      <td>0</td>\n",
       "      <td>2</td>\n",
       "    </tr>\n",
       "    <tr>\n",
       "      <th>127</th>\n",
       "      <td>14.52</td>\n",
       "      <td>0</td>\n",
       "      <td>0</td>\n",
       "      <td>3</td>\n",
       "      <td>1</td>\n",
       "      <td>2</td>\n",
       "    </tr>\n",
       "    <tr>\n",
       "      <th>113</th>\n",
       "      <td>23.95</td>\n",
       "      <td>1</td>\n",
       "      <td>0</td>\n",
       "      <td>2</td>\n",
       "      <td>0</td>\n",
       "      <td>2</td>\n",
       "    </tr>\n",
       "    <tr>\n",
       "      <th>16</th>\n",
       "      <td>10.33</td>\n",
       "      <td>0</td>\n",
       "      <td>0</td>\n",
       "      <td>2</td>\n",
       "      <td>0</td>\n",
       "      <td>3</td>\n",
       "    </tr>\n",
       "    <tr>\n",
       "      <th>196</th>\n",
       "      <td>10.34</td>\n",
       "      <td>1</td>\n",
       "      <td>1</td>\n",
       "      <td>3</td>\n",
       "      <td>1</td>\n",
       "      <td>2</td>\n",
       "    </tr>\n",
       "  </tbody>\n",
       "</table>\n",
       "</div>"
      ],
      "text/plain": [
       "     total_bill  sex  smoker  day  time  size\n",
       "139       13.16    0       0    3     1     2\n",
       "241       22.67    1       1    1     0     2\n",
       "75        10.51    1       0    1     0     2\n",
       "127       14.52    0       0    3     1     2\n",
       "113       23.95    1       0    2     0     2\n",
       "16        10.33    0       0    2     0     3\n",
       "196       10.34    1       1    3     1     2"
      ]
     },
     "execution_count": 125,
     "metadata": {},
     "output_type": "execute_result"
    }
   ],
   "source": [
    "X_test.iloc[38:45]"
   ]
  },
  {
   "cell_type": "code",
   "execution_count": 126,
   "id": "1902b643",
   "metadata": {},
   "outputs": [
    {
     "data": {
      "text/html": [
       "<div>\n",
       "<style scoped>\n",
       "    .dataframe tbody tr th:only-of-type {\n",
       "        vertical-align: middle;\n",
       "    }\n",
       "\n",
       "    .dataframe tbody tr th {\n",
       "        vertical-align: top;\n",
       "    }\n",
       "\n",
       "    .dataframe thead th {\n",
       "        text-align: right;\n",
       "    }\n",
       "</style>\n",
       "<table border=\"1\" class=\"dataframe\">\n",
       "  <thead>\n",
       "    <tr style=\"text-align: right;\">\n",
       "      <th></th>\n",
       "      <th>total_bill</th>\n",
       "      <th>tip</th>\n",
       "      <th>sex</th>\n",
       "      <th>smoker</th>\n",
       "      <th>day</th>\n",
       "      <th>time</th>\n",
       "      <th>size</th>\n",
       "    </tr>\n",
       "  </thead>\n",
       "  <tbody>\n",
       "    <tr>\n",
       "      <th>38</th>\n",
       "      <td>18.69</td>\n",
       "      <td>2.31</td>\n",
       "      <td>1</td>\n",
       "      <td>0</td>\n",
       "      <td>1</td>\n",
       "      <td>0</td>\n",
       "      <td>3</td>\n",
       "    </tr>\n",
       "    <tr>\n",
       "      <th>39</th>\n",
       "      <td>31.27</td>\n",
       "      <td>5.00</td>\n",
       "      <td>1</td>\n",
       "      <td>0</td>\n",
       "      <td>1</td>\n",
       "      <td>0</td>\n",
       "      <td>3</td>\n",
       "    </tr>\n",
       "    <tr>\n",
       "      <th>40</th>\n",
       "      <td>16.04</td>\n",
       "      <td>2.24</td>\n",
       "      <td>1</td>\n",
       "      <td>0</td>\n",
       "      <td>1</td>\n",
       "      <td>0</td>\n",
       "      <td>3</td>\n",
       "    </tr>\n",
       "    <tr>\n",
       "      <th>41</th>\n",
       "      <td>17.46</td>\n",
       "      <td>2.54</td>\n",
       "      <td>1</td>\n",
       "      <td>0</td>\n",
       "      <td>2</td>\n",
       "      <td>0</td>\n",
       "      <td>2</td>\n",
       "    </tr>\n",
       "    <tr>\n",
       "      <th>42</th>\n",
       "      <td>13.94</td>\n",
       "      <td>3.06</td>\n",
       "      <td>1</td>\n",
       "      <td>0</td>\n",
       "      <td>2</td>\n",
       "      <td>0</td>\n",
       "      <td>2</td>\n",
       "    </tr>\n",
       "    <tr>\n",
       "      <th>43</th>\n",
       "      <td>9.68</td>\n",
       "      <td>1.32</td>\n",
       "      <td>1</td>\n",
       "      <td>0</td>\n",
       "      <td>2</td>\n",
       "      <td>0</td>\n",
       "      <td>2</td>\n",
       "    </tr>\n",
       "    <tr>\n",
       "      <th>44</th>\n",
       "      <td>30.40</td>\n",
       "      <td>5.60</td>\n",
       "      <td>1</td>\n",
       "      <td>0</td>\n",
       "      <td>2</td>\n",
       "      <td>0</td>\n",
       "      <td>4</td>\n",
       "    </tr>\n",
       "  </tbody>\n",
       "</table>\n",
       "</div>"
      ],
      "text/plain": [
       "    total_bill   tip  sex  smoker  day  time  size\n",
       "38       18.69  2.31    1       0    1     0     3\n",
       "39       31.27  5.00    1       0    1     0     3\n",
       "40       16.04  2.24    1       0    1     0     3\n",
       "41       17.46  2.54    1       0    2     0     2\n",
       "42       13.94  3.06    1       0    2     0     2\n",
       "43        9.68  1.32    1       0    2     0     2\n",
       "44       30.40  5.60    1       0    2     0     4"
      ]
     },
     "execution_count": 126,
     "metadata": {},
     "output_type": "execute_result"
    }
   ],
   "source": [
    "#\n",
    "df.iloc[38:45]"
   ]
  },
  {
   "cell_type": "code",
   "execution_count": 127,
   "id": "ae6e17cc",
   "metadata": {},
   "outputs": [
    {
     "data": {
      "text/plain": [
       "array([2.36795303, 2.99414624, 2.12505786, 2.49894403, 3.33842305,\n",
       "       2.22843402, 1.86509916])"
      ]
     },
     "execution_count": 127,
     "metadata": {},
     "output_type": "execute_result"
    }
   ],
   "source": [
    "reg_train.predict(X_test.iloc[38:45])\n",
    "\n",
    "\n",
    "#what we are trying to check is the difference btw real or true dataset and predict data set\n",
    "\n",
    "#which isnt of that much\n"
   ]
  },
  {
   "cell_type": "markdown",
   "id": "e25b6d08",
   "metadata": {},
   "source": [
    "# ~ NOW THAT WE HAVE A MODEL WE HAVE TO SAVE IT SO WE CAN CALL IT WHENEVER NEEDED !!!"
   ]
  },
  {
   "cell_type": "code",
   "execution_count": 128,
   "id": "372451e9",
   "metadata": {},
   "outputs": [],
   "source": [
    "import pickle"
   ]
  },
  {
   "cell_type": "code",
   "execution_count": 129,
   "id": "1c4d76b2",
   "metadata": {},
   "outputs": [],
   "source": [
    "pickle.dump(reg_train, open('tip_prediction_model_regression.pkl', 'wb'))"
   ]
  },
  {
   "cell_type": "code",
   "execution_count": 135,
   "id": "46a4c0db",
   "metadata": {},
   "outputs": [
    {
     "data": {
      "text/html": [
       "<div>\n",
       "<style scoped>\n",
       "    .dataframe tbody tr th:only-of-type {\n",
       "        vertical-align: middle;\n",
       "    }\n",
       "\n",
       "    .dataframe tbody tr th {\n",
       "        vertical-align: top;\n",
       "    }\n",
       "\n",
       "    .dataframe thead th {\n",
       "        text-align: right;\n",
       "    }\n",
       "</style>\n",
       "<table border=\"1\" class=\"dataframe\">\n",
       "  <thead>\n",
       "    <tr style=\"text-align: right;\">\n",
       "      <th></th>\n",
       "      <th>total_bill</th>\n",
       "      <th>tip</th>\n",
       "      <th>sex</th>\n",
       "      <th>smoker</th>\n",
       "      <th>day</th>\n",
       "      <th>time</th>\n",
       "      <th>size</th>\n",
       "      <th>Female</th>\n",
       "      <th>Male</th>\n",
       "      <th>No</th>\n",
       "      <th>Yes</th>\n",
       "      <th>Fri</th>\n",
       "      <th>Sat</th>\n",
       "      <th>Sun</th>\n",
       "      <th>Thur</th>\n",
       "      <th>Dinner</th>\n",
       "      <th>Lunch</th>\n",
       "    </tr>\n",
       "  </thead>\n",
       "  <tbody>\n",
       "    <tr>\n",
       "      <th>0</th>\n",
       "      <td>16.99</td>\n",
       "      <td>1.01</td>\n",
       "      <td>0.0</td>\n",
       "      <td>0.0</td>\n",
       "      <td>2.0</td>\n",
       "      <td>0.0</td>\n",
       "      <td>2.0</td>\n",
       "      <td>0.0</td>\n",
       "      <td>0.0</td>\n",
       "      <td>0.0</td>\n",
       "      <td>0.0</td>\n",
       "      <td>0.0</td>\n",
       "      <td>0.0</td>\n",
       "      <td>0.0</td>\n",
       "      <td>0.0</td>\n",
       "      <td>0.0</td>\n",
       "      <td>0.0</td>\n",
       "    </tr>\n",
       "    <tr>\n",
       "      <th>1</th>\n",
       "      <td>10.34</td>\n",
       "      <td>1.66</td>\n",
       "      <td>1.0</td>\n",
       "      <td>0.0</td>\n",
       "      <td>2.0</td>\n",
       "      <td>0.0</td>\n",
       "      <td>3.0</td>\n",
       "      <td>0.0</td>\n",
       "      <td>0.0</td>\n",
       "      <td>0.0</td>\n",
       "      <td>0.0</td>\n",
       "      <td>0.0</td>\n",
       "      <td>0.0</td>\n",
       "      <td>0.0</td>\n",
       "      <td>0.0</td>\n",
       "      <td>0.0</td>\n",
       "      <td>0.0</td>\n",
       "    </tr>\n",
       "    <tr>\n",
       "      <th>2</th>\n",
       "      <td>21.01</td>\n",
       "      <td>3.50</td>\n",
       "      <td>1.0</td>\n",
       "      <td>0.0</td>\n",
       "      <td>2.0</td>\n",
       "      <td>0.0</td>\n",
       "      <td>3.0</td>\n",
       "      <td>0.0</td>\n",
       "      <td>0.0</td>\n",
       "      <td>0.0</td>\n",
       "      <td>0.0</td>\n",
       "      <td>0.0</td>\n",
       "      <td>0.0</td>\n",
       "      <td>0.0</td>\n",
       "      <td>0.0</td>\n",
       "      <td>0.0</td>\n",
       "      <td>0.0</td>\n",
       "    </tr>\n",
       "    <tr>\n",
       "      <th>3</th>\n",
       "      <td>23.68</td>\n",
       "      <td>3.31</td>\n",
       "      <td>1.0</td>\n",
       "      <td>0.0</td>\n",
       "      <td>2.0</td>\n",
       "      <td>0.0</td>\n",
       "      <td>2.0</td>\n",
       "      <td>0.0</td>\n",
       "      <td>0.0</td>\n",
       "      <td>0.0</td>\n",
       "      <td>0.0</td>\n",
       "      <td>0.0</td>\n",
       "      <td>0.0</td>\n",
       "      <td>0.0</td>\n",
       "      <td>0.0</td>\n",
       "      <td>0.0</td>\n",
       "      <td>0.0</td>\n",
       "    </tr>\n",
       "    <tr>\n",
       "      <th>4</th>\n",
       "      <td>24.59</td>\n",
       "      <td>3.61</td>\n",
       "      <td>0.0</td>\n",
       "      <td>0.0</td>\n",
       "      <td>2.0</td>\n",
       "      <td>0.0</td>\n",
       "      <td>4.0</td>\n",
       "      <td>0.0</td>\n",
       "      <td>0.0</td>\n",
       "      <td>0.0</td>\n",
       "      <td>0.0</td>\n",
       "      <td>0.0</td>\n",
       "      <td>0.0</td>\n",
       "      <td>0.0</td>\n",
       "      <td>0.0</td>\n",
       "      <td>0.0</td>\n",
       "      <td>0.0</td>\n",
       "    </tr>\n",
       "    <tr>\n",
       "      <th>...</th>\n",
       "      <td>...</td>\n",
       "      <td>...</td>\n",
       "      <td>...</td>\n",
       "      <td>...</td>\n",
       "      <td>...</td>\n",
       "      <td>...</td>\n",
       "      <td>...</td>\n",
       "      <td>...</td>\n",
       "      <td>...</td>\n",
       "      <td>...</td>\n",
       "      <td>...</td>\n",
       "      <td>...</td>\n",
       "      <td>...</td>\n",
       "      <td>...</td>\n",
       "      <td>...</td>\n",
       "      <td>...</td>\n",
       "      <td>...</td>\n",
       "    </tr>\n",
       "    <tr>\n",
       "      <th>239</th>\n",
       "      <td>0.00</td>\n",
       "      <td>0.00</td>\n",
       "      <td>0.0</td>\n",
       "      <td>0.0</td>\n",
       "      <td>0.0</td>\n",
       "      <td>0.0</td>\n",
       "      <td>0.0</td>\n",
       "      <td>0.0</td>\n",
       "      <td>0.0</td>\n",
       "      <td>0.0</td>\n",
       "      <td>0.0</td>\n",
       "      <td>0.0</td>\n",
       "      <td>0.0</td>\n",
       "      <td>0.0</td>\n",
       "      <td>0.0</td>\n",
       "      <td>1.0</td>\n",
       "      <td>0.0</td>\n",
       "    </tr>\n",
       "    <tr>\n",
       "      <th>240</th>\n",
       "      <td>0.00</td>\n",
       "      <td>0.00</td>\n",
       "      <td>0.0</td>\n",
       "      <td>0.0</td>\n",
       "      <td>0.0</td>\n",
       "      <td>0.0</td>\n",
       "      <td>0.0</td>\n",
       "      <td>0.0</td>\n",
       "      <td>0.0</td>\n",
       "      <td>0.0</td>\n",
       "      <td>0.0</td>\n",
       "      <td>0.0</td>\n",
       "      <td>0.0</td>\n",
       "      <td>0.0</td>\n",
       "      <td>0.0</td>\n",
       "      <td>1.0</td>\n",
       "      <td>0.0</td>\n",
       "    </tr>\n",
       "    <tr>\n",
       "      <th>241</th>\n",
       "      <td>0.00</td>\n",
       "      <td>0.00</td>\n",
       "      <td>0.0</td>\n",
       "      <td>0.0</td>\n",
       "      <td>0.0</td>\n",
       "      <td>0.0</td>\n",
       "      <td>0.0</td>\n",
       "      <td>0.0</td>\n",
       "      <td>0.0</td>\n",
       "      <td>0.0</td>\n",
       "      <td>0.0</td>\n",
       "      <td>0.0</td>\n",
       "      <td>0.0</td>\n",
       "      <td>0.0</td>\n",
       "      <td>0.0</td>\n",
       "      <td>1.0</td>\n",
       "      <td>0.0</td>\n",
       "    </tr>\n",
       "    <tr>\n",
       "      <th>242</th>\n",
       "      <td>0.00</td>\n",
       "      <td>0.00</td>\n",
       "      <td>0.0</td>\n",
       "      <td>0.0</td>\n",
       "      <td>0.0</td>\n",
       "      <td>0.0</td>\n",
       "      <td>0.0</td>\n",
       "      <td>0.0</td>\n",
       "      <td>0.0</td>\n",
       "      <td>0.0</td>\n",
       "      <td>0.0</td>\n",
       "      <td>0.0</td>\n",
       "      <td>0.0</td>\n",
       "      <td>0.0</td>\n",
       "      <td>0.0</td>\n",
       "      <td>1.0</td>\n",
       "      <td>0.0</td>\n",
       "    </tr>\n",
       "    <tr>\n",
       "      <th>243</th>\n",
       "      <td>0.00</td>\n",
       "      <td>0.00</td>\n",
       "      <td>0.0</td>\n",
       "      <td>0.0</td>\n",
       "      <td>0.0</td>\n",
       "      <td>0.0</td>\n",
       "      <td>0.0</td>\n",
       "      <td>0.0</td>\n",
       "      <td>0.0</td>\n",
       "      <td>0.0</td>\n",
       "      <td>0.0</td>\n",
       "      <td>0.0</td>\n",
       "      <td>0.0</td>\n",
       "      <td>0.0</td>\n",
       "      <td>0.0</td>\n",
       "      <td>1.0</td>\n",
       "      <td>0.0</td>\n",
       "    </tr>\n",
       "  </tbody>\n",
       "</table>\n",
       "<p>1220 rows × 17 columns</p>\n",
       "</div>"
      ],
      "text/plain": [
       "     total_bill   tip  sex  smoker  day  time  size  Female  Male   No  Yes  \\\n",
       "0         16.99  1.01  0.0     0.0  2.0   0.0   2.0     0.0   0.0  0.0  0.0   \n",
       "1         10.34  1.66  1.0     0.0  2.0   0.0   3.0     0.0   0.0  0.0  0.0   \n",
       "2         21.01  3.50  1.0     0.0  2.0   0.0   3.0     0.0   0.0  0.0  0.0   \n",
       "3         23.68  3.31  1.0     0.0  2.0   0.0   2.0     0.0   0.0  0.0  0.0   \n",
       "4         24.59  3.61  0.0     0.0  2.0   0.0   4.0     0.0   0.0  0.0  0.0   \n",
       "..          ...   ...  ...     ...  ...   ...   ...     ...   ...  ...  ...   \n",
       "239        0.00  0.00  0.0     0.0  0.0   0.0   0.0     0.0   0.0  0.0  0.0   \n",
       "240        0.00  0.00  0.0     0.0  0.0   0.0   0.0     0.0   0.0  0.0  0.0   \n",
       "241        0.00  0.00  0.0     0.0  0.0   0.0   0.0     0.0   0.0  0.0  0.0   \n",
       "242        0.00  0.00  0.0     0.0  0.0   0.0   0.0     0.0   0.0  0.0  0.0   \n",
       "243        0.00  0.00  0.0     0.0  0.0   0.0   0.0     0.0   0.0  0.0  0.0   \n",
       "\n",
       "     Fri  Sat  Sun  Thur  Dinner  Lunch  \n",
       "0    0.0  0.0  0.0   0.0     0.0    0.0  \n",
       "1    0.0  0.0  0.0   0.0     0.0    0.0  \n",
       "2    0.0  0.0  0.0   0.0     0.0    0.0  \n",
       "3    0.0  0.0  0.0   0.0     0.0    0.0  \n",
       "4    0.0  0.0  0.0   0.0     0.0    0.0  \n",
       "..   ...  ...  ...   ...     ...    ...  \n",
       "239  0.0  0.0  0.0   0.0     1.0    0.0  \n",
       "240  0.0  0.0  0.0   0.0     1.0    0.0  \n",
       "241  0.0  0.0  0.0   0.0     1.0    0.0  \n",
       "242  0.0  0.0  0.0   0.0     1.0    0.0  \n",
       "243  0.0  0.0  0.0   0.0     1.0    0.0  \n",
       "\n",
       "[1220 rows x 17 columns]"
      ]
     },
     "execution_count": 135,
     "metadata": {},
     "output_type": "execute_result"
    }
   ],
   "source": [
    "final_df"
   ]
  },
  {
   "cell_type": "code",
   "execution_count": 133,
   "id": "f5a31765",
   "metadata": {},
   "outputs": [
    {
     "data": {
      "text/plain": [
       "(     0  1\n",
       " 0    1  0\n",
       " 1    0  1\n",
       " 2    0  1\n",
       " 3    0  1\n",
       " 4    1  0\n",
       " ..  .. ..\n",
       " 239  0  1\n",
       " 240  1  0\n",
       " 241  0  1\n",
       " 242  0  1\n",
       " 243  1  0\n",
       " \n",
       " [244 rows x 2 columns],\n",
       "      0  1\n",
       " 0    1  0\n",
       " 1    1  0\n",
       " 2    1  0\n",
       " 3    1  0\n",
       " 4    1  0\n",
       " ..  .. ..\n",
       " 239  1  0\n",
       " 240  0  1\n",
       " 241  0  1\n",
       " 242  1  0\n",
       " 243  1  0\n",
       " \n",
       " [244 rows x 2 columns],\n",
       "      0  1  2  3\n",
       " 0    0  0  1  0\n",
       " 1    0  0  1  0\n",
       " 2    0  0  1  0\n",
       " 3    0  0  1  0\n",
       " 4    0  0  1  0\n",
       " ..  .. .. .. ..\n",
       " 239  0  1  0  0\n",
       " 240  0  1  0  0\n",
       " 241  0  1  0  0\n",
       " 242  0  1  0  0\n",
       " 243  0  0  0  1\n",
       " \n",
       " [244 rows x 4 columns],\n",
       "      0  1\n",
       " 0    1  0\n",
       " 1    1  0\n",
       " 2    1  0\n",
       " 3    1  0\n",
       " 4    1  0\n",
       " ..  .. ..\n",
       " 239  1  0\n",
       " 240  1  0\n",
       " 241  1  0\n",
       " 242  1  0\n",
       " 243  1  0\n",
       " \n",
       " [244 rows x 2 columns])"
      ]
     },
     "execution_count": 133,
     "metadata": {},
     "output_type": "execute_result"
    }
   ],
   "source": [
    "sex,smoker,day,time"
   ]
  },
  {
   "cell_type": "code",
   "execution_count": null,
   "id": "fc4713ac",
   "metadata": {},
   "outputs": [],
   "source": []
  }
 ],
 "metadata": {
  "kernelspec": {
   "display_name": "Python 3 (ipykernel)",
   "language": "python",
   "name": "python3"
  },
  "language_info": {
   "codemirror_mode": {
    "name": "ipython",
    "version": 3
   },
   "file_extension": ".py",
   "mimetype": "text/x-python",
   "name": "python",
   "nbconvert_exporter": "python",
   "pygments_lexer": "ipython3",
   "version": "3.9.12"
  }
 },
 "nbformat": 4,
 "nbformat_minor": 5
}
